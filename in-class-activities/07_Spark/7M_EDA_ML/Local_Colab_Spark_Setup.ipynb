{
  "nbformat": 4,
  "nbformat_minor": 0,
  "metadata": {
    "colab": {
      "name": "Local/Colab Spark Setup",
      "provenance": [],
      "collapsed_sections": [],
      "include_colab_link": true
    },
    "kernelspec": {
      "display_name": "Python 3",
      "name": "python3"
    }
  },
  "cells": [
    {
      "cell_type": "markdown",
      "metadata": {
        "id": "view-in-github",
        "colab_type": "text"
      },
      "source": [
        "<a href=\"https://colab.research.google.com/github/jonclindaniel/LargeScaleComputing_A21/blob/main/in-class-activities/07_Spark/7M_EDA_ML/Local_Colab_Spark_Setup.ipynb\" target=\"_parent\"><img src=\"https://colab.research.google.com/assets/colab-badge.svg\" alt=\"Open In Colab\"/></a>"
      ]
    },
    {
      "cell_type": "markdown",
      "metadata": {
        "id": "qpaNU3ETh0Qc"
      },
      "source": [
        "\n",
        "\n",
        "# Setting up PySpark in a Colab Notebook\n",
        "\n",
        "You can run Spark both locally and on a cluster. Here, I'll demonstrate how you can set up Spark to run in a Colab notebook for debugging purposes.\n",
        "\n",
        "You can also set up Spark locally in a similar way if you want to take advantage of multiple CPU cores (and/or GPU) on your laptop (the setup will vary slightly, though, depending on your operating system and you'll need to figure out these specifics on your own; however, this setup does work in WSL for me if I run the follow bash script in my terminal window using `sudo`). This being said, this local option should be for testing purposes on sample datasets only. If you want to run big PySpark jobs, you will want to run these in an EMR notebook (with an EMR cluster as your backend) or on the Midway Cluster.\n",
        "\n",
        "First, we need to install Spark and PySpark, by running the following commands:"
      ]
    },
    {
      "cell_type": "code",
      "metadata": {
        "id": "R8f1D7wfaCgF"
      },
      "source": [
        "%%bash\n",
        "apt-get update -qq\n",
        "apt-get install -y openjdk-8-jdk-headless -qq > /dev/null\n",
        "wget -q \"https://archive.apache.org/dist/spark/spark-3.1.1/spark-3.1.1-bin-hadoop2.7.tgz\" > /dev/null\n",
        "tar -xvf spark-3.1.1-bin-hadoop2.7.tgz > /dev/null\n",
        "\n",
        "pip install pyspark findspark --quiet"
      ],
      "execution_count": null,
      "outputs": []
    },
    {
      "cell_type": "markdown",
      "metadata": {
        "id": "fHjZLeId0nvR"
      },
      "source": [
        "OK, now that we have Spark, we need to set a path to it, so PySpark knows where to find it. We do this using the `os` Python library below.\n",
        "\n",
        "On my machine (WSL, Ubuntu 20.04), where I unpacked Spark in my home directory, this can be achieved with:\n",
        "```\n",
        "os.environ[\"SPARK_HOME\"] = \"/home/jclindaniel/spark-3.1.1-bin-hadoop2.7\"\n",
        "```\n",
        "\n",
        "In Colab, it is automatically downloaded to the `/content` directory, so we indicate that as its location here. Then, we run `findspark` to find Spark for us on the machine, and finally start up a SparkSession running on all available cores (`local[4]` means your code will run on 4 threads locally, `local[*]` means that your code will run as many threads as there are logical cores on your machine)."
      ]
    },
    {
      "cell_type": "code",
      "metadata": {
        "id": "CljIupW0aE06"
      },
      "source": [
        "# Set path to Spark\n",
        "import os\n",
        "os.environ[\"SPARK_HOME\"] = \"/content/spark-3.1.1-bin-hadoop2.7\"\n",
        "\n",
        "# Find Spark so that we can access session within our notebook\n",
        "import findspark\n",
        "findspark.init()\n",
        "\n",
        "# Start SparkSession on all available cores\n",
        "from pyspark.sql import SparkSession\n",
        "spark = SparkSession.builder.master(\"local[*]\").getOrCreate()"
      ],
      "execution_count": null,
      "outputs": []
    },
    {
      "cell_type": "markdown",
      "metadata": {
        "id": "VNTQOBLthDrC"
      },
      "source": [
        "Now that we've installed everything and set up our paths correctly, we can run (small) Spark jobs both in Colab notebooks and locally (for bigger jobs, you will want to run these jobs on an EMR cluster, though. Remember, for instance, that Google only allocates us one CPU core and up to one GPU for free)!\n",
        "\n",
        "Let's make sure our setup is working by doing couple of simple things with the pyspark.sql package on the Amazon Customer Review Sample Dataset."
      ]
    },
    {
      "cell_type": "code",
      "metadata": {
        "id": "fbXWBQfSAX8q",
        "colab": {
          "base_uri": "https://localhost:8080/",
          "height": 211
        },
        "outputId": "661e3a71-c6cd-4ae5-de54-d0e97637466d"
      },
      "source": [
        "! pip install wget\n",
        "import wget\n",
        "\n",
        "wget.download('https://s3.amazonaws.com/amazon-reviews-pds/tsv/sample_us.tsv',\n",
        "              'sample_data/sample_us.tsv')"
      ],
      "execution_count": null,
      "outputs": [
        {
          "output_type": "stream",
          "name": "stdout",
          "text": [
            "Collecting wget\n",
            "  Downloading wget-3.2.zip (10 kB)\n",
            "Building wheels for collected packages: wget\n",
            "  Building wheel for wget (setup.py) ... \u001b[?25l\u001b[?25hdone\n",
            "  Created wheel for wget: filename=wget-3.2-py3-none-any.whl size=9672 sha256=5153d3e88e714a6b46f2b3c4657df958233f4e65c9c6d4c73d188d9406d74a76\n",
            "  Stored in directory: /root/.cache/pip/wheels/a1/b6/7c/0e63e34eb06634181c63adacca38b79ff8f35c37e3c13e3c02\n",
            "Successfully built wget\n",
            "Installing collected packages: wget\n",
            "Successfully installed wget-3.2\n"
          ]
        },
        {
          "output_type": "execute_result",
          "data": {
            "application/vnd.google.colaboratory.intrinsic+json": {
              "type": "string"
            },
            "text/plain": [
              "'sample_data/sample_us.tsv'"
            ]
          },
          "metadata": {},
          "execution_count": 3
        }
      ]
    },
    {
      "cell_type": "code",
      "metadata": {
        "id": "KrXWEMxjeFx1"
      },
      "source": [
        "# Read TSV file from default data download directory in Colab\n",
        "data = spark.read.csv('sample_data/sample_us.tsv',\n",
        "                      sep=\"\\t\",\n",
        "                      header=True,\n",
        "                      inferSchema=True)"
      ],
      "execution_count": null,
      "outputs": []
    },
    {
      "cell_type": "code",
      "metadata": {
        "id": "2qvOOIYqeWw9",
        "colab": {
          "base_uri": "https://localhost:8080/"
        },
        "outputId": "7769287a-5e12-4936-9242-1d14663026ad"
      },
      "source": [
        "data.printSchema()"
      ],
      "execution_count": null,
      "outputs": [
        {
          "output_type": "stream",
          "name": "stdout",
          "text": [
            "root\n",
            " |-- marketplace: string (nullable = true)\n",
            " |-- customer_id: integer (nullable = true)\n",
            " |-- review_id: string (nullable = true)\n",
            " |-- product_id: string (nullable = true)\n",
            " |-- product_parent: integer (nullable = true)\n",
            " |-- product_title: string (nullable = true)\n",
            " |-- product_category: string (nullable = true)\n",
            " |-- star_rating: integer (nullable = true)\n",
            " |-- helpful_votes: integer (nullable = true)\n",
            " |-- total_votes: integer (nullable = true)\n",
            " |-- vine: string (nullable = true)\n",
            " |-- verified_purchase: string (nullable = true)\n",
            " |-- review_headline: string (nullable = true)\n",
            " |-- review_body: string (nullable = true)\n",
            " |-- review_date: string (nullable = true)\n",
            "\n"
          ]
        }
      ]
    },
    {
      "cell_type": "code",
      "metadata": {
        "id": "ngb25JINcUNr",
        "colab": {
          "base_uri": "https://localhost:8080/"
        },
        "outputId": "9db03bbc-64c8-4251-cc3a-781fbb7aab99"
      },
      "source": [
        "(data.groupBy('star_rating')\n",
        "     .sum('total_votes')\n",
        "     .sort('star_rating', ascending=False)\n",
        "     .show()\n",
        ")"
      ],
      "execution_count": null,
      "outputs": [
        {
          "output_type": "stream",
          "name": "stdout",
          "text": [
            "+-----------+----------------+\n",
            "|star_rating|sum(total_votes)|\n",
            "+-----------+----------------+\n",
            "|          5|              13|\n",
            "|          4|               3|\n",
            "|          3|               8|\n",
            "|          2|               2|\n",
            "|          1|               8|\n",
            "+-----------+----------------+\n",
            "\n"
          ]
        }
      ]
    }
  ]
}
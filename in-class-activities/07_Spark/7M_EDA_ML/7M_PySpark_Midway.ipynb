{
 "cells": [
  {
   "cell_type": "markdown",
   "metadata": {},
   "source": [
    "# Running PySpark Jobs on the Midway Cluster\n",
    "\n",
    "To run interactive PySpark analyses on Midway2, we recommend logging in via [ThinLinc](https://midway2.rcc.uchicago.edu/main/). Once you have logged in, pull up a terminal window via the \"Applications\" > \"System Tools\" tab.\n",
    "    \n",
    "### Setting PySpark Environment Variables\n",
    "\n",
    "Next, let's set some environment variables so PySpark knows which Python distribution it will be working with. We'll also set up our environment such that typing `pyspark` will automatically launch a Jupyter Notebook for us. Specifically, we should adjust our `.bashrc` file:\n",
    "```\n",
    "nano ~/.bashrc\n",
    "```\n",
    "Add the following lines to the bottom of your `.bashrc` file to configure PySpark to work with the version of Anaconda we've been using in the class, and also configure `pyspark` to launch a Jupyter Notebook automatically:\n",
    "```\n",
    "export PYSPARK_PYTHON=/software/Anaconda3-2019.03-el7-x86_64/bin/python\n",
    "export PYSPARK_DRIVER_PYTHON=jupyter\n",
    "export PYSPARK_DRIVER_PYTHON_OPTS=notebook\n",
    "```\n",
    "Save and exit your `.bashrc` file. Then, run:\n",
    "```\n",
    "source ~/.bashrc\n",
    "```\n",
    "\n",
    "After you've done this once, you no longer need to perform this step again. Your environment is ready to go!\n",
    "\n",
    "### Batch Jobs via `sbatch`\n",
    "\n",
    "We have a couple of options for running PySpark jobs. First of all, we can run PySpark jobs as standard batch jobs using `spark-submit` and `sbatch`:\n",
    "```\n",
    "sbatch spark.sbatch\n",
    "```\n",
    "\n",
    "Note in the `sbatch` file that we're loading Spark 2.4.3, the latest version of Spark pre-installed as a module on Midway2. We are also loading the version of Python that we've been using throughout the class.\n",
    "\n",
    "Once your job is finished running, can take a look at our output in the normal way:\n",
    "```\n",
    "cat spark.out\n",
    "```\n",
    "\n",
    "### Interactive Jobs via `sinteractive`\n",
    "\n",
    "As an alternative to running batch jobs, we can run interactive jobs within `sinteractive` mode:\n",
    "```\n",
    "sinteractive --time=00:15:00 --ntasks=10 --account=macs30123\n",
    "```\n",
    "\n",
    "Once you're in your interactive session, be sure to load the appropriate modules:\n",
    "\n",
    "```\n",
    "module load python/anaconda-2019.03\n",
    "module load spark/2.4.3\n",
    "```\n",
    "\n",
    "Then, you are ready to start your PySpark Jupyter Notebook running on all of the cores you have available:\n",
    "```\n",
    "pyspark --master local[*]\n",
    "```\n",
    "\n",
    "Once your Jupyter server loads, you can click on this notebook (pull our class GitHub repository to get the file -- in the 07_Spark directory -- if you haven't already) and run the following code. If Firefox doesn't automatically pop up and display the Jupyter Notebook interface, you might need to manually type `firefox` into another terminal window, manually copying and pasting the address to your Jupyter notebook in the address bar.\n",
    "\n",
    "### Working with Large Data using PySpark\n",
    "\n",
    "Note that we have loaded in a CSV version of the Amazon Customer Reviews dataset to our class directory on Midway2 (downloaded from S3) for you to work with:"
   ]
  },
  {
   "cell_type": "code",
   "execution_count": 1,
   "metadata": {},
   "outputs": [
    {
     "name": "stdout",
     "output_type": "stream",
     "text": [
      "total 17G\r\n",
      "-rw-rw-r-- 1 macs30123 1.7G Nov 10 00:07 book_review_0.csv\r\n",
      "-rw-rw-r-- 1 macs30123 1.7G Nov 10 00:09 book_review_1.csv\r\n",
      "-rw-rw-r-- 1 macs30123 1.7G Nov 10 00:11 book_review_2.csv\r\n",
      "-rw-rw-r-- 1 macs30123 1.7G Nov 10 00:12 book_review_3.csv\r\n",
      "-rw-rw-r-- 1 macs30123 1.7G Nov 10 00:14 book_review_4.csv\r\n",
      "-rw-rw-r-- 1 macs30123 1.7G Nov 10 00:16 book_review_5.csv\r\n",
      "-rw-rw-r-- 1 macs30123 1.7G Nov 10 00:18 book_review_6.csv\r\n",
      "-rw-rw-r-- 1 macs30123 1.7G Nov 10 00:20 book_review_7.csv\r\n",
      "-rw-rw-r-- 1 macs30123 1.7G Nov 10 00:21 book_review_8.csv\r\n",
      "-rw-rw-r-- 1 macs30123 1.7G Nov 10 00:23 book_review_9.csv\r\n"
     ]
    }
   ],
   "source": [
    "ls -gh /project2/macs30123/AWS_book_reviews/"
   ]
  },
  {
   "cell_type": "markdown",
   "metadata": {},
   "source": [
    "Let's load in our data and see how it's structured:"
   ]
  },
  {
   "cell_type": "code",
   "execution_count": 1,
   "metadata": {},
   "outputs": [],
   "source": [
    "from pyspark.sql.functions import *"
   ]
  },
  {
   "cell_type": "code",
   "execution_count": 2,
   "metadata": {},
   "outputs": [],
   "source": [
    "data = spark.read.csv('/project2/macs30123/AWS_book_reviews/*.csv',\n",
    "                      header='true',\n",
    "                      inferSchema='true')"
   ]
  },
  {
   "cell_type": "code",
   "execution_count": 3,
   "metadata": {},
   "outputs": [
    {
     "name": "stdout",
     "output_type": "stream",
     "text": [
      "Total Columns: 15\n",
      "Total Rows: 20726160\n",
      "root\n",
      " |-- marketplace: string (nullable = true)\n",
      " |-- customer_id: integer (nullable = true)\n",
      " |-- review_id: string (nullable = true)\n",
      " |-- product_id: string (nullable = true)\n",
      " |-- product_parent: integer (nullable = true)\n",
      " |-- product_title: string (nullable = true)\n",
      " |-- star_rating: string (nullable = true)\n",
      " |-- helpful_votes: string (nullable = true)\n",
      " |-- total_votes: string (nullable = true)\n",
      " |-- vine: string (nullable = true)\n",
      " |-- verified_purchase: string (nullable = true)\n",
      " |-- review_headline: string (nullable = true)\n",
      " |-- review_body: string (nullable = true)\n",
      " |-- review_date: string (nullable = true)\n",
      " |-- year: string (nullable = true)\n",
      "\n"
     ]
    }
   ],
   "source": [
    "print('Total Columns: %d' % len(data.dtypes))\n",
    "print('Total Rows: %d' % data.count())\n",
    "data.printSchema()"
   ]
  },
  {
   "cell_type": "markdown",
   "metadata": {},
   "source": [
    "It looks like Spark didn't infer the schema as well on these CSVs as it did on our Parquet files on AWS. Let's cast a couple of columns to the right data type so that we can run a sample query:"
   ]
  },
  {
   "cell_type": "code",
   "execution_count": 4,
   "metadata": {},
   "outputs": [
    {
     "name": "stdout",
     "output_type": "stream",
     "text": [
      "root\n",
      " |-- marketplace: string (nullable = true)\n",
      " |-- customer_id: integer (nullable = true)\n",
      " |-- review_id: string (nullable = true)\n",
      " |-- product_id: string (nullable = true)\n",
      " |-- product_parent: integer (nullable = true)\n",
      " |-- product_title: string (nullable = true)\n",
      " |-- star_rating: integer (nullable = true)\n",
      " |-- helpful_votes: integer (nullable = true)\n",
      " |-- total_votes: integer (nullable = true)\n",
      " |-- vine: string (nullable = true)\n",
      " |-- verified_purchase: string (nullable = true)\n",
      " |-- review_headline: string (nullable = true)\n",
      " |-- review_body: string (nullable = true)\n",
      " |-- review_date: string (nullable = true)\n",
      " |-- year: string (nullable = true)\n",
      "\n"
     ]
    }
   ],
   "source": [
    "data = (data.withColumn('star_rating', col('star_rating').cast('int'))\n",
    "            .withColumn('total_votes', col('total_votes').cast('int'))\n",
    "            .withColumn('helpful_votes', col('helpful_votes').cast('int'))\n",
    "       )\n",
    "data.printSchema()"
   ]
  },
  {
   "cell_type": "markdown",
   "metadata": {},
   "source": [
    "If we then run a query, we can see that this works (although there are some odd star ratings that we didn't see in the parquet dataset -- we'll need to clean these out):"
   ]
  },
  {
   "cell_type": "code",
   "execution_count": 5,
   "metadata": {},
   "outputs": [
    {
     "name": "stdout",
     "output_type": "stream",
     "text": [
      "+-----------+----------------+------------------+\n",
      "|star_rating|sum(total_votes)|sum(helpful_votes)|\n",
      "+-----------+----------------+------------------+\n",
      "|         10|               5|              null|\n",
      "|          5|        54772802|          44796242|\n",
      "|          4|        13946766|          11094517|\n",
      "|          3|        10113149|           7019293|\n",
      "|          2|         9006573|           5579123|\n",
      "|          1|        22610642|          10978974|\n",
      "|          0|              81|              null|\n",
      "|       null|           43088|             33089|\n",
      "+-----------+----------------+------------------+\n",
      "\n"
     ]
    }
   ],
   "source": [
    "stars_votes = (data.groupBy('star_rating')\n",
    "                   .sum('total_votes', 'helpful_votes')\n",
    "                   .sort('star_rating', ascending=False)\n",
    "              )\n",
    "stars_votes.show()"
   ]
  },
  {
   "cell_type": "markdown",
   "metadata": {},
   "source": [
    "Let's convert this to a `pandas` dataframe and see what it looks like in a Matplotlib plot:"
   ]
  },
  {
   "cell_type": "code",
   "execution_count": 6,
   "metadata": {},
   "outputs": [],
   "source": [
    "import matplotlib.pyplot as plt"
   ]
  },
  {
   "cell_type": "code",
   "execution_count": 9,
   "metadata": {},
   "outputs": [
    {
     "data": {
      "text/html": [
       "<div>\n",
       "<style scoped>\n",
       "    .dataframe tbody tr th:only-of-type {\n",
       "        vertical-align: middle;\n",
       "    }\n",
       "\n",
       "    .dataframe tbody tr th {\n",
       "        vertical-align: top;\n",
       "    }\n",
       "\n",
       "    .dataframe thead th {\n",
       "        text-align: right;\n",
       "    }\n",
       "</style>\n",
       "<table border=\"1\" class=\"dataframe\">\n",
       "  <thead>\n",
       "    <tr style=\"text-align: right;\">\n",
       "      <th></th>\n",
       "      <th>star_rating</th>\n",
       "      <th>sum(total_votes)</th>\n",
       "      <th>sum(helpful_votes)</th>\n",
       "    </tr>\n",
       "  </thead>\n",
       "  <tbody>\n",
       "    <tr>\n",
       "      <th>0</th>\n",
       "      <td>10.0</td>\n",
       "      <td>5</td>\n",
       "      <td>NaN</td>\n",
       "    </tr>\n",
       "    <tr>\n",
       "      <th>1</th>\n",
       "      <td>5.0</td>\n",
       "      <td>54772802</td>\n",
       "      <td>44796242.0</td>\n",
       "    </tr>\n",
       "    <tr>\n",
       "      <th>2</th>\n",
       "      <td>4.0</td>\n",
       "      <td>13946766</td>\n",
       "      <td>11094517.0</td>\n",
       "    </tr>\n",
       "    <tr>\n",
       "      <th>3</th>\n",
       "      <td>3.0</td>\n",
       "      <td>10113149</td>\n",
       "      <td>7019293.0</td>\n",
       "    </tr>\n",
       "    <tr>\n",
       "      <th>4</th>\n",
       "      <td>2.0</td>\n",
       "      <td>9006573</td>\n",
       "      <td>5579123.0</td>\n",
       "    </tr>\n",
       "    <tr>\n",
       "      <th>5</th>\n",
       "      <td>1.0</td>\n",
       "      <td>22610642</td>\n",
       "      <td>10978974.0</td>\n",
       "    </tr>\n",
       "    <tr>\n",
       "      <th>6</th>\n",
       "      <td>0.0</td>\n",
       "      <td>81</td>\n",
       "      <td>NaN</td>\n",
       "    </tr>\n",
       "    <tr>\n",
       "      <th>7</th>\n",
       "      <td>NaN</td>\n",
       "      <td>43088</td>\n",
       "      <td>33089.0</td>\n",
       "    </tr>\n",
       "  </tbody>\n",
       "</table>\n",
       "</div>"
      ],
      "text/plain": [
       "   star_rating  sum(total_votes)  sum(helpful_votes)\n",
       "0         10.0                 5                 NaN\n",
       "1          5.0          54772802          44796242.0\n",
       "2          4.0          13946766          11094517.0\n",
       "3          3.0          10113149           7019293.0\n",
       "4          2.0           9006573           5579123.0\n",
       "5          1.0          22610642          10978974.0\n",
       "6          0.0                81                 NaN\n",
       "7          NaN             43088             33089.0"
      ]
     },
     "execution_count": 9,
     "metadata": {},
     "output_type": "execute_result"
    }
   ],
   "source": [
    "df = stars_votes.toPandas()\n",
    "df"
   ]
  },
  {
   "cell_type": "markdown",
   "metadata": {},
   "source": [
    "First, though, let's clean out the stray values and then plot the number of votes by star ratings 1-5:"
   ]
  },
  {
   "cell_type": "code",
   "execution_count": 15,
   "metadata": {},
   "outputs": [
    {
     "data": {
      "image/png": "[encoded data removed]",
      "text/plain": [
       "<Figure size 432x288 with 1 Axes>"
      ]
     },
     "metadata": {
      "needs_background": "light"
     },
     "output_type": "display_data"
    }
   ],
   "source": [
    "df_clean = df.dropna()\n",
    "df_clean.plot(x='star_rating', \n",
    "              y=['sum(total_votes)', 'sum(helpful_votes)'],\n",
    "              kind='bar')\n",
    "plt.ylabel('Number of Votes')\n",
    "plt.title('Votes by Star Rating');"
   ]
  }
 ],
 "metadata": {
  "kernelspec": {
   "display_name": "Python 3",
   "language": "python",
   "name": "python3"
  },
  "language_info": {
   "codemirror_mode": {
    "name": "ipython",
    "version": 3
   },
   "file_extension": ".py",
   "mimetype": "text/x-python",
   "name": "python",
   "nbconvert_exporter": "python",
   "pygments_lexer": "ipython3",
   "version": "3.7.6"
  }
 },
 "nbformat": 4,
 "nbformat_minor": 2
}

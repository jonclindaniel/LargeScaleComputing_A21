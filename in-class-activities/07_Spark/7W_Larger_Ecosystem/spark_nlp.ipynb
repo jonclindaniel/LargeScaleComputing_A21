{
 "cells": [
  {
   "cell_type": "markdown",
   "id": "dc001429",
   "metadata": {},
   "source": [
    "# Spark NLP\n",
    "\n",
    "In this notebook, we will walk through some of the basic functionality of Spark NLP, which can be used to perform more advanced text processing operations than is possible with `pyspark.ml` alone.\n",
    "\n",
    "Note that this notebook is intended to be run in AWS EMR Notebook (and can be launched [following these instructions](https://nlp.johnsnowlabs.com/docs/en/install#emr-support), using EMR Release 6.2.0).\n",
    "\n",
    "-----\n",
    "\n",
    "First, let's load our packages:"
   ]
  },
  {
   "cell_type": "code",
   "execution_count": 1,
   "id": "83d33a91",
   "metadata": {},
   "outputs": [
    {
     "data": {
      "application/vnd.jupyter.widget-view+json": {
       "model_id": "171cd7d2aa4b40569b2fd6e07a949ba0",
       "version_major": 2,
       "version_minor": 0
      },
      "text/plain": [
       "VBox()"
      ]
     },
     "metadata": {},
     "output_type": "display_data"
    },
    {
     "name": "stdout",
     "output_type": "stream",
     "text": [
      "Starting Spark application\n"
     ]
    },
    {
     "data": {
      "text/html": [
       "<table>\n",
       "<tr><th>ID</th><th>YARN Application ID</th><th>Kind</th><th>State</th><th>Spark UI</th><th>Driver log</th><th>Current session?</th></tr><tr><td>0</td><td>application_1636238344833_0001</td><td>pyspark</td><td>idle</td><td><a target=\"_blank\" href=\"http://ip-172-31-26-195.ec2.internal:20888/proxy/application_1636238344833_0001/\" >Link</a></td><td><a target=\"_blank\" href=\"http://ip-172-31-20-68.ec2.internal:8042/node/containerlogs/container_1636238344833_0001_01_000001/livy\" >Link</a></td><td>✔</td></tr></table>"
      ],
      "text/plain": [
       "<IPython.core.display.HTML object>"
      ]
     },
     "metadata": {},
     "output_type": "display_data"
    },
    {
     "data": {
      "application/vnd.jupyter.widget-view+json": {
       "model_id": "",
       "version_major": 2,
       "version_minor": 0
      },
      "text/plain": [
       "FloatProgress(value=0.0, bar_style='info', description='Progress:', layout=Layout(height='25px', width='50%'),…"
      ]
     },
     "metadata": {},
     "output_type": "display_data"
    },
    {
     "name": "stdout",
     "output_type": "stream",
     "text": [
      "SparkSession available as 'spark'.\n"
     ]
    },
    {
     "data": {
      "application/vnd.jupyter.widget-view+json": {
       "model_id": "",
       "version_major": 2,
       "version_minor": 0
      },
      "text/plain": [
       "FloatProgress(value=0.0, bar_style='info', description='Progress:', layout=Layout(height='25px', width='50%'),…"
      ]
     },
     "metadata": {},
     "output_type": "display_data"
    }
   ],
   "source": [
    "from pyspark.ml import Pipeline, PipelineModel\n",
    "from pyspark.sql.functions import *\n",
    "from pyspark.sql import SparkSession\n",
    "from pyspark.sql.types import StructType, StructField, IntegerType, StringType\n",
    "import sparknlp\n",
    "from sparknlp.pretrained import PretrainedPipeline\n",
    "from sparknlp.annotator import *\n",
    "from sparknlp.common import RegexRule\n",
    "from sparknlp.base import *"
   ]
  },
  {
   "cell_type": "markdown",
   "id": "f9667f93",
   "metadata": {},
   "source": [
    "And, then, let's create a sample DataFrame with some text entries in it that we can work with (drawn from the first several paragraphs of the [University of Chicago's Wikipedia page](https://en.wikipedia.org/wiki/University_of_Chicago)). This data is quite small (purposefully!) so that we can easily see all of the operations that are being performed. Of course, we're running this notebook on a Spark cluster, though, so we can perform these same operations on even the largest DataFrames using this same approach -- whether that is the Amazon Customer Reviews dataset that we've been working with or a text corpus as big as the Common Crawl."
   ]
  },
  {
   "cell_type": "code",
   "execution_count": 2,
   "id": "993fffa3",
   "metadata": {},
   "outputs": [
    {
     "data": {
      "application/vnd.jupyter.widget-view+json": {
       "model_id": "8bd2ca34f6f44d54b72d972a71b533d3",
       "version_major": 2,
       "version_minor": 0
      },
      "text/plain": [
       "VBox()"
      ]
     },
     "metadata": {},
     "output_type": "display_data"
    },
    {
     "data": {
      "application/vnd.jupyter.widget-view+json": {
       "model_id": "",
       "version_major": 2,
       "version_minor": 0
      },
      "text/plain": [
       "FloatProgress(value=0.0, bar_style='info', description='Progress:', layout=Layout(height='25px', width='50%'),…"
      ]
     },
     "metadata": {},
     "output_type": "display_data"
    },
    {
     "name": "stdout",
     "output_type": "stream",
     "text": [
      "+--------------------+\n",
      "|                text|\n",
      "+--------------------+\n",
      "|The University of...|\n",
      "|The Hyde Park cam...|\n",
      "+--------------------+"
     ]
    }
   ],
   "source": [
    "sample = [\n",
    "    ['The University of Chicago was incorporated as a coeducational institution in 1890 by the American Baptist Education Society, using $400,000 donated to the ABES to match a $600,000 donation from Baptist oil magnate and philanthropist John D. Rockefeller, and including land donated by Marshall Field. While the Rockefeller donation provided money for academic operations and long-term endowment, it was stipulated that such money could not be used for buildings. The Hyde Park campus was financed by donations from wealthy Chicagoans like Silas B. Cobb who provided the funds for the campus first building, Cobb Lecture Hall, and matched Marshall Fields pledge of $100,000. Other early benefactors included businessmen Charles L. Hutchinson (trustee, treasurer and donor of Hutchinson Commons), Martin A. Ryerson (president of the board of trustees and donor of the Ryerson Physical Laboratory) Adolphus Clay Bartlett and Leon Mandel, who funded the construction of the gymnasium and assembly hall, and George C. Walker of the Walker Museum, a relative of Cobb who encouraged his inaugural donation for facilities.'],\n",
    "    ['The Hyde Park campus continued the legacy of the original university of the same name, which had closed in the 1880s after its campus was foreclosed on. What became known as the Old University of Chicago had been founded by a small group of Baptist educators in 1856 through a land endowment from Senator Stephen A. Douglas. After a fire, it closed in 1886. Alumni from the Old University of Chicago are recognized as alumni of the present University of Chicago. The university depiction on its coat of arms of a phoenix rising from the ashes is a reference to the fire, foreclosure, and demolition of the Old University of Chicago campus. As an homage to this pre-1890 legacy, a single stone from the rubble of the original Douglas Hall on 34th Place was brought to the current Hyde Park location and set into the wall of the Classics Building. These connections have led the dean of the college and University of Chicago and professor of history John Boyer to conclude that the University of Chicago has, a plausible genealogy as a pre–Civil War institution']\n",
    "]\n",
    "\n",
    "data = spark.createDataFrame(sample) \\\n",
    "            .toDF(\"text\")\n",
    "\n",
    "data.show()"
   ]
  },
  {
   "cell_type": "markdown",
   "id": "a2820155",
   "metadata": {},
   "source": [
    "You'll remember from `pyspark.ml` that pipelines can be useful approach for combining various estimators and transformers into a single workflow. Spark NLP extends this idea by introducing so-called \"annotators\" that can perform NLP-related estimation tasks (e.g. things that can be trained through `.fit()`) and transformation tasks (things that can transform one DataFrame into another DataFrame in some way). \n",
    "\n",
    "For instance, below, we transform raw text into a document, transform that document into tokens, and then identify the \"part of speech\" for each token based on a pre-trained POS-tagger. We can chain these transformers and estimators together into a single reproducible pipeline that can then be fit and used to transform data. Note as well that we're using the `Pipeline()` function from `pyspark.ml`, so it's also easy to use plug these annotators into our existing ML workflow."
   ]
  },
  {
   "cell_type": "code",
   "execution_count": 3,
   "id": "32ab98b0",
   "metadata": {},
   "outputs": [
    {
     "data": {
      "application/vnd.jupyter.widget-view+json": {
       "model_id": "95866ee530774cd8b7bccf94e2b559c4",
       "version_major": 2,
       "version_minor": 0
      },
      "text/plain": [
       "VBox()"
      ]
     },
     "metadata": {},
     "output_type": "display_data"
    },
    {
     "data": {
      "application/vnd.jupyter.widget-view+json": {
       "model_id": "",
       "version_major": 2,
       "version_minor": 0
      },
      "text/plain": [
       "FloatProgress(value=0.0, bar_style='info', description='Progress:', layout=Layout(height='25px', width='50%'),…"
      ]
     },
     "metadata": {},
     "output_type": "display_data"
    },
    {
     "name": "stdout",
     "output_type": "stream",
     "text": [
      "pos_anc download started this may take some time.\n",
      "Approximate size to download 3.9 MB\n",
      "[OK!]"
     ]
    }
   ],
   "source": [
    "documentAssembler = DocumentAssembler()\\\n",
    "    .setInputCol(\"text\")\\\n",
    "    .setOutputCol(\"document\")\n",
    "\n",
    "tokenizer = Tokenizer() \\\n",
    "    .setInputCols([\"document\"]) \\\n",
    "    .setOutputCol(\"token\")\n",
    "\n",
    "pos = PerceptronModel.pretrained(\"pos_anc\", 'en')\\\n",
    "        .setInputCols(\"document\", \"token\")\\\n",
    "        .setOutputCol(\"pos\")\n",
    "\n",
    "my_pipeline = Pipeline(\n",
    "      stages = [\n",
    "          documentAssembler,\n",
    "          tokenizer,\n",
    "          pos\n",
    "      ])"
   ]
  },
  {
   "cell_type": "markdown",
   "id": "cf539321",
   "metadata": {},
   "source": [
    "Once we transform our data, you can see that we have produced different columns for each of our different steps in the pipeline:"
   ]
  },
  {
   "cell_type": "code",
   "execution_count": 4,
   "id": "e0e6ff40",
   "metadata": {},
   "outputs": [
    {
     "data": {
      "application/vnd.jupyter.widget-view+json": {
       "model_id": "3141d41e9eb6477e94932bf40f43e56b",
       "version_major": 2,
       "version_minor": 0
      },
      "text/plain": [
       "VBox()"
      ]
     },
     "metadata": {},
     "output_type": "display_data"
    },
    {
     "data": {
      "application/vnd.jupyter.widget-view+json": {
       "model_id": "",
       "version_major": 2,
       "version_minor": 0
      },
      "text/plain": [
       "FloatProgress(value=0.0, bar_style='info', description='Progress:', layout=Layout(height='25px', width='50%'),…"
      ]
     },
     "metadata": {},
     "output_type": "display_data"
    },
    {
     "name": "stdout",
     "output_type": "stream",
     "text": [
      "+--------------------+--------------------+--------------------+--------------------+\n",
      "|                text|            document|               token|                 pos|\n",
      "+--------------------+--------------------+--------------------+--------------------+\n",
      "|The University of...|[[document, 0, 11...|[[token, 0, 2, Th...|[[pos, 0, 2, DT, ...|\n",
      "|The Hyde Park cam...|[[document, 0, 10...|[[token, 0, 2, Th...|[[pos, 0, 2, DT, ...|\n",
      "+--------------------+--------------------+--------------------+--------------------+"
     ]
    }
   ],
   "source": [
    "# not training anything, so pass empty dataframe to fit\n",
    "pipelineModel = my_pipeline.fit(spark.createDataFrame([['']]).toDF(\"text\"))\n",
    "\n",
    "# transform data\n",
    "result = pipelineModel.transform(data)\n",
    "\n",
    "result.show()"
   ]
  },
  {
   "cell_type": "markdown",
   "id": "86962ca8",
   "metadata": {},
   "source": [
    "If we take a closer look at the token-level data, we can see the parts of speech for each of the words in our DataFrame:"
   ]
  },
  {
   "cell_type": "code",
   "execution_count": 5,
   "id": "26e9b8c5",
   "metadata": {},
   "outputs": [
    {
     "data": {
      "application/vnd.jupyter.widget-view+json": {
       "model_id": "288635585a81403bb97dc0130fe8410e",
       "version_major": 2,
       "version_minor": 0
      },
      "text/plain": [
       "VBox()"
      ]
     },
     "metadata": {},
     "output_type": "display_data"
    },
    {
     "data": {
      "application/vnd.jupyter.widget-view+json": {
       "model_id": "",
       "version_major": 2,
       "version_minor": 0
      },
      "text/plain": [
       "FloatProgress(value=0.0, bar_style='info', description='Progress:', layout=Layout(height='25px', width='50%'),…"
      ]
     },
     "metadata": {},
     "output_type": "display_data"
    },
    {
     "name": "stdout",
     "output_type": "stream",
     "text": [
      "+-------------+-----+---+---+\n",
      "|chunk        |begin|end|pos|\n",
      "+-------------+-----+---+---+\n",
      "|The          |0    |2  |DT |\n",
      "|University   |4    |13 |NNP|\n",
      "|of           |15   |16 |IN |\n",
      "|Chicago      |18   |24 |NNP|\n",
      "|was          |26   |28 |VBD|\n",
      "|incorporated |30   |41 |VBN|\n",
      "|as           |43   |44 |IN |\n",
      "|a            |46   |46 |DT |\n",
      "|coeducational|48   |60 |JJ |\n",
      "|institution  |62   |72 |NN |\n",
      "|in           |74   |75 |IN |\n",
      "|1890         |77   |80 |CD |\n",
      "|by           |82   |83 |IN |\n",
      "|the          |85   |87 |DT |\n",
      "|American     |89   |96 |JJ |\n",
      "|Baptist      |98   |104|NNP|\n",
      "|Education    |106  |114|NNP|\n",
      "|Society      |116  |122|NNP|\n",
      "|,            |123  |123|,  |\n",
      "|using        |125  |129|VBG|\n",
      "+-------------+-----+---+---+\n",
      "only showing top 20 rows"
     ]
    }
   ],
   "source": [
    "result.select(explode(arrays_zip('token.result',\n",
    "                                 'token.begin',\n",
    "                                 'token.end', \n",
    "                                 'pos.result', \n",
    "                                 )).alias(\"cols\")) \\\n",
    "      .select(expr(\"cols['0']\").alias(\"chunk\"),\n",
    "              expr(\"cols['1']\").alias(\"begin\"),\n",
    "              expr(\"cols['2']\").alias(\"end\"),\n",
    "              expr(\"cols['3']\").alias(\"pos\"),\n",
    "             ) \\\n",
    "      .show(truncate=False)"
   ]
  },
  {
   "cell_type": "markdown",
   "id": "08a55024",
   "metadata": {},
   "source": [
    "Part-of-speech tagging is only [one of many available annotators](https://nlp.johnsnowlabs.com/docs/en/annotators) in the Spark NLP ecosystem, though, and you're encouraged to take a look through the documentation. Note, for instance, that there are many pre-trained annotators (using state-of-the-art training procedures) that can be used directly out-of-the-box and inserted into your pipelines.\n",
    "\n",
    "Spark NLP also provides many predefined pipelines that will perform common series of transformations on your data according to pre-trained models (e.g. performing NER with various embedding models, for instance). Here, we'll load in a pre-trained pipeline, which produces NER labels (pre-trained through a series of neural networks) for each of our words to demonstrate how this can work on our mini dataset."
   ]
  },
  {
   "cell_type": "code",
   "execution_count": 6,
   "id": "bdccb7f1",
   "metadata": {},
   "outputs": [
    {
     "data": {
      "application/vnd.jupyter.widget-view+json": {
       "model_id": "3439718c86a74278a05d34202d855502",
       "version_major": 2,
       "version_minor": 0
      },
      "text/plain": [
       "VBox()"
      ]
     },
     "metadata": {},
     "output_type": "display_data"
    },
    {
     "data": {
      "application/vnd.jupyter.widget-view+json": {
       "model_id": "",
       "version_major": 2,
       "version_minor": 0
      },
      "text/plain": [
       "FloatProgress(value=0.0, bar_style='info', description='Progress:', layout=Layout(height='25px', width='50%'),…"
      ]
     },
     "metadata": {},
     "output_type": "display_data"
    },
    {
     "name": "stdout",
     "output_type": "stream",
     "text": [
      "explain_document_dl download started this may take some time.\n",
      "Approx size to download 169.4 MB\n",
      "[OK!]"
     ]
    }
   ],
   "source": [
    "pipeline = PretrainedPipeline('explain_document_dl', lang='en')\n",
    "result = pipeline.transform(data)"
   ]
  },
  {
   "cell_type": "markdown",
   "id": "bc7cf635",
   "metadata": {},
   "source": [
    "And we can then take a look at the results; not bad for a single line of code!"
   ]
  },
  {
   "cell_type": "code",
   "execution_count": 7,
   "id": "d65e49d6",
   "metadata": {},
   "outputs": [
    {
     "data": {
      "application/vnd.jupyter.widget-view+json": {
       "model_id": "cf14b161de8f4c2dbcd2fa3d264bdd96",
       "version_major": 2,
       "version_minor": 0
      },
      "text/plain": [
       "VBox()"
      ]
     },
     "metadata": {},
     "output_type": "display_data"
    },
    {
     "data": {
      "application/vnd.jupyter.widget-view+json": {
       "model_id": "",
       "version_major": 2,
       "version_minor": 0
      },
      "text/plain": [
       "FloatProgress(value=0.0, bar_style='info', description='Progress:', layout=Layout(height='25px', width='50%'),…"
      ]
     },
     "metadata": {},
     "output_type": "display_data"
    },
    {
     "name": "stdout",
     "output_type": "stream",
     "text": [
      "+-------------+--------+-----+\n",
      "|lemma        |stem    |ner  |\n",
      "+-------------+--------+-----+\n",
      "|The          |the     |O    |\n",
      "|University   |univers |B-ORG|\n",
      "|of           |of      |I-ORG|\n",
      "|Chicago      |chicago |I-ORG|\n",
      "|be           |wa      |O    |\n",
      "|incorporate  |incorpor|O    |\n",
      "|as           |a       |O    |\n",
      "|a            |a       |O    |\n",
      "|coeducational|coeduc  |O    |\n",
      "|institution  |institut|O    |\n",
      "|in           |in      |O    |\n",
      "|1890         |1890    |O    |\n",
      "|by           |by      |O    |\n",
      "|the          |the     |O    |\n",
      "|American     |american|B-ORG|\n",
      "|Baptist      |baptist |I-ORG|\n",
      "|Education    |educ    |I-ORG|\n",
      "|Society      |societi |I-ORG|\n",
      "|,            |,       |O    |\n",
      "|use          |us      |O    |\n",
      "+-------------+--------+-----+\n",
      "only showing top 20 rows"
     ]
    }
   ],
   "source": [
    "result.select(explode(arrays_zip('lemma.result',\n",
    "                                 'stem.result', \n",
    "                                 'ner.result'\n",
    "                                 )).alias(\"cols\")) \\\n",
    "      .select(expr(\"cols['0']\").alias(\"lemma\"),\n",
    "              expr(\"cols['1']\").alias(\"stem\"),\n",
    "              expr(\"cols['2']\").alias(\"ner\"),\n",
    "             ) \\\n",
    "      .show(truncate=False)"
   ]
  },
  {
   "cell_type": "code",
   "execution_count": 8,
   "id": "8de7f59c",
   "metadata": {},
   "outputs": [
    {
     "data": {
      "application/vnd.jupyter.widget-view+json": {
       "model_id": "3208f464d89f4d49af4a4f99d5292c9a",
       "version_major": 2,
       "version_minor": 0
      },
      "text/plain": [
       "VBox()"
      ]
     },
     "metadata": {},
     "output_type": "display_data"
    },
    {
     "data": {
      "application/vnd.jupyter.widget-view+json": {
       "model_id": "",
       "version_major": 2,
       "version_minor": 0
      },
      "text/plain": [
       "FloatProgress(value=0.0, bar_style='info', description='Progress:', layout=Layout(height='25px', width='50%'),…"
      ]
     },
     "metadata": {},
     "output_type": "display_data"
    },
    {
     "name": "stdout",
     "output_type": "stream",
     "text": [
      "+--------+-----+\n",
      "|     ner|count|\n",
      "+--------+-----+\n",
      "|[B-MISC]|    3|\n",
      "| [I-ORG]|   24|\n",
      "| [I-PER]|   12|\n",
      "| [I-LOC]|    7|\n",
      "| [B-PER]|   16|\n",
      "|     [O]|  305|\n",
      "| [B-ORG]|   14|\n",
      "| [B-LOC]|    8|\n",
      "+--------+-----+"
     ]
    }
   ],
   "source": [
    "result.select(explode(arrays_zip('ner.result')).alias('ner')) \\\n",
    "      .groupBy('ner') \\\n",
    "      .count() \\\n",
    "      .show()"
   ]
  },
  {
   "cell_type": "markdown",
   "id": "d46e99ec",
   "metadata": {},
   "source": [
    "And finally, if we take at the annotated text with Spark NLP's Display feature, we can see that the results are pretty good (although a few things are slightly off, it's overally quite accurate)."
   ]
  },
  {
   "cell_type": "code",
   "execution_count": null,
   "id": "bd985bcc",
   "metadata": {},
   "outputs": [],
   "source": [
    "sc.install_pypi_package('pandas==1.0.3')\n",
    "sc.install_pypi_package('spark-nlp-display==1.7') # install to visualize NER in text"
   ]
  },
  {
   "cell_type": "code",
   "execution_count": null,
   "id": "13ef54de",
   "metadata": {},
   "outputs": [],
   "source": [
    "from sparknlp_display import NerVisualizer\n",
    "\n",
    "html_0 = NerVisualizer().display(\n",
    "    result = result.collect()[0],\n",
    "    label_col = 'entities',\n",
    "    document_col = 'document',\n",
    "    return_html=True\n",
    ")\n",
    "\n",
    "html_1 = NerVisualizer().display(\n",
    "    result = result.collect()[1],\n",
    "    label_col = 'entities',\n",
    "    document_col = 'document',\n",
    "    return_html=True\n",
    ")\n",
    "\n",
    "# print results to copy, then display below with HTML magic\n",
    "print(html_0 + html_1)"
   ]
  },
  {
   "cell_type": "code",
   "execution_count": 12,
   "id": "52e5d049",
   "metadata": {
    "jupyter": {
     "source_hidden": true
    }
   },
   "outputs": [
    {
     "data": {
      "text/html": [
       "<style>\n",
       "    @import url('https://fonts.googleapis.com/css2?family=Montserrat:wght@300;400;500;600;700&display=swap');\n",
       "    @import url('https://fonts.googleapis.com/css2?family=Vistol Regular:wght@300;400;500;600;700&display=swap');\n",
       "    \n",
       "    .spark-nlp-display-scroll-entities {\n",
       "        border: 1px solid #E7EDF0;\n",
       "        border-radius: 3px;\n",
       "        text-align: justify;\n",
       "        \n",
       "    }\n",
       "    .spark-nlp-display-scroll-entities span {  \n",
       "        font-size: 14px;\n",
       "        line-height: 24px;\n",
       "        color: #536B76;\n",
       "        font-family: 'Montserrat', sans-serif !important;\n",
       "    }\n",
       "    \n",
       "    .spark-nlp-display-entity-wrapper{\n",
       "    \n",
       "        display: inline-grid;\n",
       "        text-align: center;\n",
       "        border-radius: 4px;\n",
       "        margin: 0 2px 5px 2px;\n",
       "        padding: 1px\n",
       "    }\n",
       "    .spark-nlp-display-entity-name{\n",
       "        font-size: 14px;\n",
       "        line-height: 24px;\n",
       "        font-family: 'Montserrat', sans-serif !important;\n",
       "        \n",
       "        background: #f1f2f3;\n",
       "        border-width: medium;\n",
       "        text-align: center;\n",
       "        \n",
       "        font-weight: 400;\n",
       "        \n",
       "        border-radius: 5px;\n",
       "        padding: 2px 5px;\n",
       "        display: block;\n",
       "        margin: 3px 2px;\n",
       "    \n",
       "    }\n",
       "    .spark-nlp-display-entity-type{\n",
       "        font-size: 14px;\n",
       "        line-height: 24px;\n",
       "        color: #ffffff;\n",
       "        font-family: 'Montserrat', sans-serif !important;\n",
       "        \n",
       "        text-transform: uppercase;\n",
       "        \n",
       "        font-weight: 500;\n",
       "\n",
       "        display: block;\n",
       "        padding: 3px 5px;\n",
       "    }\n",
       "    \n",
       "    .spark-nlp-display-entity-resolution{\n",
       "        font-size: 14px;\n",
       "        line-height: 24px;\n",
       "        color: #ffffff;\n",
       "        font-family: 'Vistol Regular', sans-serif !important;\n",
       "        \n",
       "        text-transform: uppercase;\n",
       "        \n",
       "        font-weight: 500;\n",
       "\n",
       "        display: block;\n",
       "        padding: 3px 5px;\n",
       "    }\n",
       "    \n",
       "    .spark-nlp-display-others{\n",
       "        font-size: 14px;\n",
       "        line-height: 24px;\n",
       "        font-family: 'Montserrat', sans-serif !important;\n",
       "        \n",
       "        font-weight: 400;\n",
       "    }\n",
       "\n",
       "</style>\n",
       " <span class=\"spark-nlp-display-others\" style=\"background-color: white\">The </span><span class=\"spark-nlp-display-entity-wrapper\" style=\"background-color: #A74C97\"><span class=\"spark-nlp-display-entity-name\">University of Chicago </span><span class=\"spark-nlp-display-entity-type\">ORG</span></span><span class=\"spark-nlp-display-others\" style=\"background-color: white\"> was incorporated as a coeducational institution in 1890 by the </span><span class=\"spark-nlp-display-entity-wrapper\" style=\"background-color: #A74C97\"><span class=\"spark-nlp-display-entity-name\">American Baptist Education Society </span><span class=\"spark-nlp-display-entity-type\">ORG</span></span><span class=\"spark-nlp-display-others\" style=\"background-color: white\">, using $400,000 donated to the </span><span class=\"spark-nlp-display-entity-wrapper\" style=\"background-color: #A74C97\"><span class=\"spark-nlp-display-entity-name\">ABES </span><span class=\"spark-nlp-display-entity-type\">ORG</span></span><span class=\"spark-nlp-display-others\" style=\"background-color: white\"> to match a $600,000 donation from </span><span class=\"spark-nlp-display-entity-wrapper\" style=\"background-color: #23C492\"><span class=\"spark-nlp-display-entity-name\">Baptist </span><span class=\"spark-nlp-display-entity-type\">LOC</span></span><span class=\"spark-nlp-display-others\" style=\"background-color: white\"> oil magnate and philanthropist </span><span class=\"spark-nlp-display-entity-wrapper\" style=\"background-color: #0A0A9E\"><span class=\"spark-nlp-display-entity-name\">John D </span><span class=\"spark-nlp-display-entity-type\">PER</span></span><span class=\"spark-nlp-display-others\" style=\"background-color: white\">. </span><span class=\"spark-nlp-display-entity-wrapper\" style=\"background-color: #23C492\"><span class=\"spark-nlp-display-entity-name\">Rockefeller </span><span class=\"spark-nlp-display-entity-type\">LOC</span></span><span class=\"spark-nlp-display-others\" style=\"background-color: white\">, and including land donated by </span><span class=\"spark-nlp-display-entity-wrapper\" style=\"background-color: #0A0A9E\"><span class=\"spark-nlp-display-entity-name\">Marshall Field </span><span class=\"spark-nlp-display-entity-type\">PER</span></span><span class=\"spark-nlp-display-others\" style=\"background-color: white\">. While the </span><span class=\"spark-nlp-display-entity-wrapper\" style=\"background-color: #A74C97\"><span class=\"spark-nlp-display-entity-name\">Rockefeller </span><span class=\"spark-nlp-display-entity-type\">ORG</span></span><span class=\"spark-nlp-display-others\" style=\"background-color: white\"> donation provided money for academic operations and long-term endowment, it was stipulated that such money could not be used for buildings. The </span><span class=\"spark-nlp-display-entity-wrapper\" style=\"background-color: #23C492\"><span class=\"spark-nlp-display-entity-name\">Hyde Park </span><span class=\"spark-nlp-display-entity-type\">LOC</span></span><span class=\"spark-nlp-display-others\" style=\"background-color: white\"> campus was financed by donations from wealthy </span><span class=\"spark-nlp-display-entity-wrapper\" style=\"background-color: #8B03B3\"><span class=\"spark-nlp-display-entity-name\">Chicagoans </span><span class=\"spark-nlp-display-entity-type\">MISC</span></span><span class=\"spark-nlp-display-others\" style=\"background-color: white\"> like </span><span class=\"spark-nlp-display-entity-wrapper\" style=\"background-color: #0A0A9E\"><span class=\"spark-nlp-display-entity-name\">Silas B </span><span class=\"spark-nlp-display-entity-type\">PER</span></span><span class=\"spark-nlp-display-others\" style=\"background-color: white\">. </span><span class=\"spark-nlp-display-entity-wrapper\" style=\"background-color: #0A0A9E\"><span class=\"spark-nlp-display-entity-name\">Cobb </span><span class=\"spark-nlp-display-entity-type\">PER</span></span><span class=\"spark-nlp-display-others\" style=\"background-color: white\"> who provided the funds for the campus first building, </span><span class=\"spark-nlp-display-entity-wrapper\" style=\"background-color: #23C492\"><span class=\"spark-nlp-display-entity-name\">Cobb Lecture Hall </span><span class=\"spark-nlp-display-entity-type\">LOC</span></span><span class=\"spark-nlp-display-others\" style=\"background-color: white\">, and matched </span><span class=\"spark-nlp-display-entity-wrapper\" style=\"background-color: #0A0A9E\"><span class=\"spark-nlp-display-entity-name\">Marshall Fields </span><span class=\"spark-nlp-display-entity-type\">PER</span></span><span class=\"spark-nlp-display-others\" style=\"background-color: white\"> pledge of $100,000. Other early benefactors included businessmen </span><span class=\"spark-nlp-display-entity-wrapper\" style=\"background-color: #0A0A9E\"><span class=\"spark-nlp-display-entity-name\">Charles L </span><span class=\"spark-nlp-display-entity-type\">PER</span></span><span class=\"spark-nlp-display-others\" style=\"background-color: white\">. </span><span class=\"spark-nlp-display-entity-wrapper\" style=\"background-color: #0A0A9E\"><span class=\"spark-nlp-display-entity-name\">Hutchinson </span><span class=\"spark-nlp-display-entity-type\">PER</span></span><span class=\"spark-nlp-display-others\" style=\"background-color: white\"> (trustee, treasurer and donor of </span><span class=\"spark-nlp-display-entity-wrapper\" style=\"background-color: #A74C97\"><span class=\"spark-nlp-display-entity-name\">Hutchinson Commons </span><span class=\"spark-nlp-display-entity-type\">ORG</span></span><span class=\"spark-nlp-display-others\" style=\"background-color: white\">), </span><span class=\"spark-nlp-display-entity-wrapper\" style=\"background-color: #0A0A9E\"><span class=\"spark-nlp-display-entity-name\">Martin A </span><span class=\"spark-nlp-display-entity-type\">PER</span></span><span class=\"spark-nlp-display-others\" style=\"background-color: white\">. </span><span class=\"spark-nlp-display-entity-wrapper\" style=\"background-color: #A74C97\"><span class=\"spark-nlp-display-entity-name\">Ryerson </span><span class=\"spark-nlp-display-entity-type\">ORG</span></span><span class=\"spark-nlp-display-others\" style=\"background-color: white\"> (president of the board of trustees and donor of the </span><span class=\"spark-nlp-display-entity-wrapper\" style=\"background-color: #A74C97\"><span class=\"spark-nlp-display-entity-name\">Ryerson Physical Laboratory </span><span class=\"spark-nlp-display-entity-type\">ORG</span></span><span class=\"spark-nlp-display-others\" style=\"background-color: white\">) </span><span class=\"spark-nlp-display-entity-wrapper\" style=\"background-color: #0A0A9E\"><span class=\"spark-nlp-display-entity-name\">Adolphus Clay Bartlett </span><span class=\"spark-nlp-display-entity-type\">PER</span></span><span class=\"spark-nlp-display-others\" style=\"background-color: white\"> and </span><span class=\"spark-nlp-display-entity-wrapper\" style=\"background-color: #0A0A9E\"><span class=\"spark-nlp-display-entity-name\">Leon Mandel </span><span class=\"spark-nlp-display-entity-type\">PER</span></span><span class=\"spark-nlp-display-others\" style=\"background-color: white\">, who funded the construction of the gymnasium and assembly hall, and </span><span class=\"spark-nlp-display-entity-wrapper\" style=\"background-color: #0A0A9E\"><span class=\"spark-nlp-display-entity-name\">George C </span><span class=\"spark-nlp-display-entity-type\">PER</span></span><span class=\"spark-nlp-display-others\" style=\"background-color: white\">. </span><span class=\"spark-nlp-display-entity-wrapper\" style=\"background-color: #0A0A9E\"><span class=\"spark-nlp-display-entity-name\">Walker </span><span class=\"spark-nlp-display-entity-type\">PER</span></span><span class=\"spark-nlp-display-others\" style=\"background-color: white\"> of the </span><span class=\"spark-nlp-display-entity-wrapper\" style=\"background-color: #23C492\"><span class=\"spark-nlp-display-entity-name\">Walker Museum </span><span class=\"spark-nlp-display-entity-type\">LOC</span></span><span class=\"spark-nlp-display-others\" style=\"background-color: white\">, a relative of </span><span class=\"spark-nlp-display-entity-wrapper\" style=\"background-color: #0A0A9E\"><span class=\"spark-nlp-display-entity-name\">Cobb </span><span class=\"spark-nlp-display-entity-type\">PER</span></span><span class=\"spark-nlp-display-others\" style=\"background-color: white\"> who encouraged his inaugural donation for facilities.</span></div>\n",
       "<style>\n",
       "    @import url('https://fonts.googleapis.com/css2?family=Montserrat:wght@300;400;500;600;700&display=swap');\n",
       "    @import url('https://fonts.googleapis.com/css2?family=Vistol Regular:wght@300;400;500;600;700&display=swap');\n",
       "    \n",
       "    .spark-nlp-display-scroll-entities {\n",
       "        border: 1px solid #E7EDF0;\n",
       "        border-radius: 3px;\n",
       "        text-align: justify;\n",
       "        \n",
       "    }\n",
       "    .spark-nlp-display-scroll-entities span {  \n",
       "        font-size: 14px;\n",
       "        line-height: 24px;\n",
       "        color: #536B76;\n",
       "        font-family: 'Montserrat', sans-serif !important;\n",
       "    }\n",
       "    \n",
       "    .spark-nlp-display-entity-wrapper{\n",
       "    \n",
       "        display: inline-grid;\n",
       "        text-align: center;\n",
       "        border-radius: 4px;\n",
       "        margin: 0 2px 5px 2px;\n",
       "        padding: 1px\n",
       "    }\n",
       "    .spark-nlp-display-entity-name{\n",
       "        font-size: 14px;\n",
       "        line-height: 24px;\n",
       "        font-family: 'Montserrat', sans-serif !important;\n",
       "        \n",
       "        background: #f1f2f3;\n",
       "        border-width: medium;\n",
       "        text-align: center;\n",
       "        \n",
       "        font-weight: 400;\n",
       "        \n",
       "        border-radius: 5px;\n",
       "        padding: 2px 5px;\n",
       "        display: block;\n",
       "        margin: 3px 2px;\n",
       "    \n",
       "    }\n",
       "    .spark-nlp-display-entity-type{\n",
       "        font-size: 14px;\n",
       "        line-height: 24px;\n",
       "        color: #ffffff;\n",
       "        font-family: 'Montserrat', sans-serif !important;\n",
       "        \n",
       "        text-transform: uppercase;\n",
       "        \n",
       "        font-weight: 500;\n",
       "\n",
       "        display: block;\n",
       "        padding: 3px 5px;\n",
       "    }\n",
       "    \n",
       "    .spark-nlp-display-entity-resolution{\n",
       "        font-size: 14px;\n",
       "        line-height: 24px;\n",
       "        color: #ffffff;\n",
       "        font-family: 'Vistol Regular', sans-serif !important;\n",
       "        \n",
       "        text-transform: uppercase;\n",
       "        \n",
       "        font-weight: 500;\n",
       "\n",
       "        display: block;\n",
       "        padding: 3px 5px;\n",
       "    }\n",
       "    \n",
       "    .spark-nlp-display-others{\n",
       "        font-size: 14px;\n",
       "        line-height: 24px;\n",
       "        font-family: 'Montserrat', sans-serif !important;\n",
       "        \n",
       "        font-weight: 400;\n",
       "    }\n",
       "\n",
       "</style>\n",
       " <span class=\"spark-nlp-display-others\" style=\"background-color: white\">The </span><span class=\"spark-nlp-display-entity-wrapper\" style=\"background-color: #2F307B\"><span class=\"spark-nlp-display-entity-name\">Hyde Park </span><span class=\"spark-nlp-display-entity-type\">LOC</span></span><span class=\"spark-nlp-display-others\" style=\"background-color: white\"> campus continued the legacy of the original university of the same name, which had closed in the 1880s after its campus was foreclosed on. What became known as the </span><span class=\"spark-nlp-display-entity-wrapper\" style=\"background-color: #43BA3F\"><span class=\"spark-nlp-display-entity-name\">Old University of Chicago </span><span class=\"spark-nlp-display-entity-type\">ORG</span></span><span class=\"spark-nlp-display-others\" style=\"background-color: white\"> had been founded by a small group of </span><span class=\"spark-nlp-display-entity-wrapper\" style=\"background-color: #574517\"><span class=\"spark-nlp-display-entity-name\">Baptist </span><span class=\"spark-nlp-display-entity-type\">MISC</span></span><span class=\"spark-nlp-display-others\" style=\"background-color: white\"> educators in 1856 through a land endowment from </span><span class=\"spark-nlp-display-entity-wrapper\" style=\"background-color: #4FC60B\"><span class=\"spark-nlp-display-entity-name\">Senator Stephen </span><span class=\"spark-nlp-display-entity-type\">PER</span></span><span class=\"spark-nlp-display-others\" style=\"background-color: white\"> A. </span><span class=\"spark-nlp-display-entity-wrapper\" style=\"background-color: #4FC60B\"><span class=\"spark-nlp-display-entity-name\">Douglas </span><span class=\"spark-nlp-display-entity-type\">PER</span></span><span class=\"spark-nlp-display-others\" style=\"background-color: white\">. After a fire, it closed in 1886. Alumni from the </span><span class=\"spark-nlp-display-entity-wrapper\" style=\"background-color: #43BA3F\"><span class=\"spark-nlp-display-entity-name\">Old University of Chicago </span><span class=\"spark-nlp-display-entity-type\">ORG</span></span><span class=\"spark-nlp-display-others\" style=\"background-color: white\"> are recognized as alumni of the present </span><span class=\"spark-nlp-display-entity-wrapper\" style=\"background-color: #43BA3F\"><span class=\"spark-nlp-display-entity-name\">University of Chicago </span><span class=\"spark-nlp-display-entity-type\">ORG</span></span><span class=\"spark-nlp-display-others\" style=\"background-color: white\">. The university depiction on its coat of arms of a phoenix rising from the ashes is a reference to the fire, foreclosure, and demolition of the </span><span class=\"spark-nlp-display-entity-wrapper\" style=\"background-color: #43BA3F\"><span class=\"spark-nlp-display-entity-name\">Old University of Chicago </span><span class=\"spark-nlp-display-entity-type\">ORG</span></span><span class=\"spark-nlp-display-others\" style=\"background-color: white\"> campus. As an homage to this pre-1890 legacy, a single stone from the rubble of the original </span><span class=\"spark-nlp-display-entity-wrapper\" style=\"background-color: #2F307B\"><span class=\"spark-nlp-display-entity-name\">Douglas Hall </span><span class=\"spark-nlp-display-entity-type\">LOC</span></span><span class=\"spark-nlp-display-others\" style=\"background-color: white\"> on 34th Place was brought to the current </span><span class=\"spark-nlp-display-entity-wrapper\" style=\"background-color: #2F307B\"><span class=\"spark-nlp-display-entity-name\">Hyde Park </span><span class=\"spark-nlp-display-entity-type\">LOC</span></span><span class=\"spark-nlp-display-others\" style=\"background-color: white\"> location and set into the wall of the </span><span class=\"spark-nlp-display-entity-wrapper\" style=\"background-color: #43BA3F\"><span class=\"spark-nlp-display-entity-name\">Classics Building </span><span class=\"spark-nlp-display-entity-type\">ORG</span></span><span class=\"spark-nlp-display-others\" style=\"background-color: white\">. These connections have led the dean of the college and </span><span class=\"spark-nlp-display-entity-wrapper\" style=\"background-color: #43BA3F\"><span class=\"spark-nlp-display-entity-name\">University of Chicago </span><span class=\"spark-nlp-display-entity-type\">ORG</span></span><span class=\"spark-nlp-display-others\" style=\"background-color: white\"> and professor of history </span><span class=\"spark-nlp-display-entity-wrapper\" style=\"background-color: #4FC60B\"><span class=\"spark-nlp-display-entity-name\">John Boyer </span><span class=\"spark-nlp-display-entity-type\">PER</span></span><span class=\"spark-nlp-display-others\" style=\"background-color: white\"> to conclude that the </span><span class=\"spark-nlp-display-entity-wrapper\" style=\"background-color: #43BA3F\"><span class=\"spark-nlp-display-entity-name\">University of Chicago </span><span class=\"spark-nlp-display-entity-type\">ORG</span></span><span class=\"spark-nlp-display-others\" style=\"background-color: white\"> has, a plausible genealogy as a pre?Civil </span><span class=\"spark-nlp-display-entity-wrapper\" style=\"background-color: #574517\"><span class=\"spark-nlp-display-entity-name\">War </span><span class=\"spark-nlp-display-entity-type\">MISC</span></span><span class=\"spark-nlp-display-others\" style=\"background-color: white\"> institution</span></div>\n"
      ],
      "text/plain": [
       "<IPython.core.display.HTML object>"
      ]
     },
     "metadata": {},
     "output_type": "display_data"
    }
   ],
   "source": [
    "%%HTML\n",
    "<style>\n",
    "    @import url('https://fonts.googleapis.com/css2?family=Montserrat:wght@300;400;500;600;700&display=swap');\n",
    "    @import url('https://fonts.googleapis.com/css2?family=Vistol Regular:wght@300;400;500;600;700&display=swap');\n",
    "    \n",
    "    .spark-nlp-display-scroll-entities {\n",
    "        border: 1px solid #E7EDF0;\n",
    "        border-radius: 3px;\n",
    "        text-align: justify;\n",
    "        \n",
    "    }\n",
    "    .spark-nlp-display-scroll-entities span {  \n",
    "        font-size: 14px;\n",
    "        line-height: 24px;\n",
    "        color: #536B76;\n",
    "        font-family: 'Montserrat', sans-serif !important;\n",
    "    }\n",
    "    \n",
    "    .spark-nlp-display-entity-wrapper{\n",
    "    \n",
    "        display: inline-grid;\n",
    "        text-align: center;\n",
    "        border-radius: 4px;\n",
    "        margin: 0 2px 5px 2px;\n",
    "        padding: 1px\n",
    "    }\n",
    "    .spark-nlp-display-entity-name{\n",
    "        font-size: 14px;\n",
    "        line-height: 24px;\n",
    "        font-family: 'Montserrat', sans-serif !important;\n",
    "        \n",
    "        background: #f1f2f3;\n",
    "        border-width: medium;\n",
    "        text-align: center;\n",
    "        \n",
    "        font-weight: 400;\n",
    "        \n",
    "        border-radius: 5px;\n",
    "        padding: 2px 5px;\n",
    "        display: block;\n",
    "        margin: 3px 2px;\n",
    "    \n",
    "    }\n",
    "    .spark-nlp-display-entity-type{\n",
    "        font-size: 14px;\n",
    "        line-height: 24px;\n",
    "        color: #ffffff;\n",
    "        font-family: 'Montserrat', sans-serif !important;\n",
    "        \n",
    "        text-transform: uppercase;\n",
    "        \n",
    "        font-weight: 500;\n",
    "\n",
    "        display: block;\n",
    "        padding: 3px 5px;\n",
    "    }\n",
    "    \n",
    "    .spark-nlp-display-entity-resolution{\n",
    "        font-size: 14px;\n",
    "        line-height: 24px;\n",
    "        color: #ffffff;\n",
    "        font-family: 'Vistol Regular', sans-serif !important;\n",
    "        \n",
    "        text-transform: uppercase;\n",
    "        \n",
    "        font-weight: 500;\n",
    "\n",
    "        display: block;\n",
    "        padding: 3px 5px;\n",
    "    }\n",
    "    \n",
    "    .spark-nlp-display-others{\n",
    "        font-size: 14px;\n",
    "        line-height: 24px;\n",
    "        font-family: 'Montserrat', sans-serif !important;\n",
    "        \n",
    "        font-weight: 400;\n",
    "    }\n",
    "\n",
    "</style>\n",
    " <span class=\"spark-nlp-display-others\" style=\"background-color: white\">The </span><span class=\"spark-nlp-display-entity-wrapper\" style=\"background-color: #A74C97\"><span class=\"spark-nlp-display-entity-name\">University of Chicago </span><span class=\"spark-nlp-display-entity-type\">ORG</span></span><span class=\"spark-nlp-display-others\" style=\"background-color: white\"> was incorporated as a coeducational institution in 1890 by the </span><span class=\"spark-nlp-display-entity-wrapper\" style=\"background-color: #A74C97\"><span class=\"spark-nlp-display-entity-name\">American Baptist Education Society </span><span class=\"spark-nlp-display-entity-type\">ORG</span></span><span class=\"spark-nlp-display-others\" style=\"background-color: white\">, using $400,000 donated to the </span><span class=\"spark-nlp-display-entity-wrapper\" style=\"background-color: #A74C97\"><span class=\"spark-nlp-display-entity-name\">ABES </span><span class=\"spark-nlp-display-entity-type\">ORG</span></span><span class=\"spark-nlp-display-others\" style=\"background-color: white\"> to match a $600,000 donation from </span><span class=\"spark-nlp-display-entity-wrapper\" style=\"background-color: #23C492\"><span class=\"spark-nlp-display-entity-name\">Baptist </span><span class=\"spark-nlp-display-entity-type\">LOC</span></span><span class=\"spark-nlp-display-others\" style=\"background-color: white\"> oil magnate and philanthropist </span><span class=\"spark-nlp-display-entity-wrapper\" style=\"background-color: #0A0A9E\"><span class=\"spark-nlp-display-entity-name\">John D </span><span class=\"spark-nlp-display-entity-type\">PER</span></span><span class=\"spark-nlp-display-others\" style=\"background-color: white\">. </span><span class=\"spark-nlp-display-entity-wrapper\" style=\"background-color: #23C492\"><span class=\"spark-nlp-display-entity-name\">Rockefeller </span><span class=\"spark-nlp-display-entity-type\">LOC</span></span><span class=\"spark-nlp-display-others\" style=\"background-color: white\">, and including land donated by </span><span class=\"spark-nlp-display-entity-wrapper\" style=\"background-color: #0A0A9E\"><span class=\"spark-nlp-display-entity-name\">Marshall Field </span><span class=\"spark-nlp-display-entity-type\">PER</span></span><span class=\"spark-nlp-display-others\" style=\"background-color: white\">. While the </span><span class=\"spark-nlp-display-entity-wrapper\" style=\"background-color: #A74C97\"><span class=\"spark-nlp-display-entity-name\">Rockefeller </span><span class=\"spark-nlp-display-entity-type\">ORG</span></span><span class=\"spark-nlp-display-others\" style=\"background-color: white\"> donation provided money for academic operations and long-term endowment, it was stipulated that such money could not be used for buildings. The </span><span class=\"spark-nlp-display-entity-wrapper\" style=\"background-color: #23C492\"><span class=\"spark-nlp-display-entity-name\">Hyde Park </span><span class=\"spark-nlp-display-entity-type\">LOC</span></span><span class=\"spark-nlp-display-others\" style=\"background-color: white\"> campus was financed by donations from wealthy </span><span class=\"spark-nlp-display-entity-wrapper\" style=\"background-color: #8B03B3\"><span class=\"spark-nlp-display-entity-name\">Chicagoans </span><span class=\"spark-nlp-display-entity-type\">MISC</span></span><span class=\"spark-nlp-display-others\" style=\"background-color: white\"> like </span><span class=\"spark-nlp-display-entity-wrapper\" style=\"background-color: #0A0A9E\"><span class=\"spark-nlp-display-entity-name\">Silas B </span><span class=\"spark-nlp-display-entity-type\">PER</span></span><span class=\"spark-nlp-display-others\" style=\"background-color: white\">. </span><span class=\"spark-nlp-display-entity-wrapper\" style=\"background-color: #0A0A9E\"><span class=\"spark-nlp-display-entity-name\">Cobb </span><span class=\"spark-nlp-display-entity-type\">PER</span></span><span class=\"spark-nlp-display-others\" style=\"background-color: white\"> who provided the funds for the campus first building, </span><span class=\"spark-nlp-display-entity-wrapper\" style=\"background-color: #23C492\"><span class=\"spark-nlp-display-entity-name\">Cobb Lecture Hall </span><span class=\"spark-nlp-display-entity-type\">LOC</span></span><span class=\"spark-nlp-display-others\" style=\"background-color: white\">, and matched </span><span class=\"spark-nlp-display-entity-wrapper\" style=\"background-color: #0A0A9E\"><span class=\"spark-nlp-display-entity-name\">Marshall Fields </span><span class=\"spark-nlp-display-entity-type\">PER</span></span><span class=\"spark-nlp-display-others\" style=\"background-color: white\"> pledge of $100,000. Other early benefactors included businessmen </span><span class=\"spark-nlp-display-entity-wrapper\" style=\"background-color: #0A0A9E\"><span class=\"spark-nlp-display-entity-name\">Charles L </span><span class=\"spark-nlp-display-entity-type\">PER</span></span><span class=\"spark-nlp-display-others\" style=\"background-color: white\">. </span><span class=\"spark-nlp-display-entity-wrapper\" style=\"background-color: #0A0A9E\"><span class=\"spark-nlp-display-entity-name\">Hutchinson </span><span class=\"spark-nlp-display-entity-type\">PER</span></span><span class=\"spark-nlp-display-others\" style=\"background-color: white\"> (trustee, treasurer and donor of </span><span class=\"spark-nlp-display-entity-wrapper\" style=\"background-color: #A74C97\"><span class=\"spark-nlp-display-entity-name\">Hutchinson Commons </span><span class=\"spark-nlp-display-entity-type\">ORG</span></span><span class=\"spark-nlp-display-others\" style=\"background-color: white\">), </span><span class=\"spark-nlp-display-entity-wrapper\" style=\"background-color: #0A0A9E\"><span class=\"spark-nlp-display-entity-name\">Martin A </span><span class=\"spark-nlp-display-entity-type\">PER</span></span><span class=\"spark-nlp-display-others\" style=\"background-color: white\">. </span><span class=\"spark-nlp-display-entity-wrapper\" style=\"background-color: #A74C97\"><span class=\"spark-nlp-display-entity-name\">Ryerson </span><span class=\"spark-nlp-display-entity-type\">ORG</span></span><span class=\"spark-nlp-display-others\" style=\"background-color: white\"> (president of the board of trustees and donor of the </span><span class=\"spark-nlp-display-entity-wrapper\" style=\"background-color: #A74C97\"><span class=\"spark-nlp-display-entity-name\">Ryerson Physical Laboratory </span><span class=\"spark-nlp-display-entity-type\">ORG</span></span><span class=\"spark-nlp-display-others\" style=\"background-color: white\">) </span><span class=\"spark-nlp-display-entity-wrapper\" style=\"background-color: #0A0A9E\"><span class=\"spark-nlp-display-entity-name\">Adolphus Clay Bartlett </span><span class=\"spark-nlp-display-entity-type\">PER</span></span><span class=\"spark-nlp-display-others\" style=\"background-color: white\"> and </span><span class=\"spark-nlp-display-entity-wrapper\" style=\"background-color: #0A0A9E\"><span class=\"spark-nlp-display-entity-name\">Leon Mandel </span><span class=\"spark-nlp-display-entity-type\">PER</span></span><span class=\"spark-nlp-display-others\" style=\"background-color: white\">, who funded the construction of the gymnasium and assembly hall, and </span><span class=\"spark-nlp-display-entity-wrapper\" style=\"background-color: #0A0A9E\"><span class=\"spark-nlp-display-entity-name\">George C </span><span class=\"spark-nlp-display-entity-type\">PER</span></span><span class=\"spark-nlp-display-others\" style=\"background-color: white\">. </span><span class=\"spark-nlp-display-entity-wrapper\" style=\"background-color: #0A0A9E\"><span class=\"spark-nlp-display-entity-name\">Walker </span><span class=\"spark-nlp-display-entity-type\">PER</span></span><span class=\"spark-nlp-display-others\" style=\"background-color: white\"> of the </span><span class=\"spark-nlp-display-entity-wrapper\" style=\"background-color: #23C492\"><span class=\"spark-nlp-display-entity-name\">Walker Museum </span><span class=\"spark-nlp-display-entity-type\">LOC</span></span><span class=\"spark-nlp-display-others\" style=\"background-color: white\">, a relative of </span><span class=\"spark-nlp-display-entity-wrapper\" style=\"background-color: #0A0A9E\"><span class=\"spark-nlp-display-entity-name\">Cobb </span><span class=\"spark-nlp-display-entity-type\">PER</span></span><span class=\"spark-nlp-display-others\" style=\"background-color: white\"> who encouraged his inaugural donation for facilities.</span></div>\n",
    "<style>\n",
    "    @import url('https://fonts.googleapis.com/css2?family=Montserrat:wght@300;400;500;600;700&display=swap');\n",
    "    @import url('https://fonts.googleapis.com/css2?family=Vistol Regular:wght@300;400;500;600;700&display=swap');\n",
    "    \n",
    "    .spark-nlp-display-scroll-entities {\n",
    "        border: 1px solid #E7EDF0;\n",
    "        border-radius: 3px;\n",
    "        text-align: justify;\n",
    "        \n",
    "    }\n",
    "    .spark-nlp-display-scroll-entities span {  \n",
    "        font-size: 14px;\n",
    "        line-height: 24px;\n",
    "        color: #536B76;\n",
    "        font-family: 'Montserrat', sans-serif !important;\n",
    "    }\n",
    "    \n",
    "    .spark-nlp-display-entity-wrapper{\n",
    "    \n",
    "        display: inline-grid;\n",
    "        text-align: center;\n",
    "        border-radius: 4px;\n",
    "        margin: 0 2px 5px 2px;\n",
    "        padding: 1px\n",
    "    }\n",
    "    .spark-nlp-display-entity-name{\n",
    "        font-size: 14px;\n",
    "        line-height: 24px;\n",
    "        font-family: 'Montserrat', sans-serif !important;\n",
    "        \n",
    "        background: #f1f2f3;\n",
    "        border-width: medium;\n",
    "        text-align: center;\n",
    "        \n",
    "        font-weight: 400;\n",
    "        \n",
    "        border-radius: 5px;\n",
    "        padding: 2px 5px;\n",
    "        display: block;\n",
    "        margin: 3px 2px;\n",
    "    \n",
    "    }\n",
    "    .spark-nlp-display-entity-type{\n",
    "        font-size: 14px;\n",
    "        line-height: 24px;\n",
    "        color: #ffffff;\n",
    "        font-family: 'Montserrat', sans-serif !important;\n",
    "        \n",
    "        text-transform: uppercase;\n",
    "        \n",
    "        font-weight: 500;\n",
    "\n",
    "        display: block;\n",
    "        padding: 3px 5px;\n",
    "    }\n",
    "    \n",
    "    .spark-nlp-display-entity-resolution{\n",
    "        font-size: 14px;\n",
    "        line-height: 24px;\n",
    "        color: #ffffff;\n",
    "        font-family: 'Vistol Regular', sans-serif !important;\n",
    "        \n",
    "        text-transform: uppercase;\n",
    "        \n",
    "        font-weight: 500;\n",
    "\n",
    "        display: block;\n",
    "        padding: 3px 5px;\n",
    "    }\n",
    "    \n",
    "    .spark-nlp-display-others{\n",
    "        font-size: 14px;\n",
    "        line-height: 24px;\n",
    "        font-family: 'Montserrat', sans-serif !important;\n",
    "        \n",
    "        font-weight: 400;\n",
    "    }\n",
    "\n",
    "</style>\n",
    " <span class=\"spark-nlp-display-others\" style=\"background-color: white\">The </span><span class=\"spark-nlp-display-entity-wrapper\" style=\"background-color: #2F307B\"><span class=\"spark-nlp-display-entity-name\">Hyde Park </span><span class=\"spark-nlp-display-entity-type\">LOC</span></span><span class=\"spark-nlp-display-others\" style=\"background-color: white\"> campus continued the legacy of the original university of the same name, which had closed in the 1880s after its campus was foreclosed on. What became known as the </span><span class=\"spark-nlp-display-entity-wrapper\" style=\"background-color: #43BA3F\"><span class=\"spark-nlp-display-entity-name\">Old University of Chicago </span><span class=\"spark-nlp-display-entity-type\">ORG</span></span><span class=\"spark-nlp-display-others\" style=\"background-color: white\"> had been founded by a small group of </span><span class=\"spark-nlp-display-entity-wrapper\" style=\"background-color: #574517\"><span class=\"spark-nlp-display-entity-name\">Baptist </span><span class=\"spark-nlp-display-entity-type\">MISC</span></span><span class=\"spark-nlp-display-others\" style=\"background-color: white\"> educators in 1856 through a land endowment from </span><span class=\"spark-nlp-display-entity-wrapper\" style=\"background-color: #4FC60B\"><span class=\"spark-nlp-display-entity-name\">Senator Stephen </span><span class=\"spark-nlp-display-entity-type\">PER</span></span><span class=\"spark-nlp-display-others\" style=\"background-color: white\"> A. </span><span class=\"spark-nlp-display-entity-wrapper\" style=\"background-color: #4FC60B\"><span class=\"spark-nlp-display-entity-name\">Douglas </span><span class=\"spark-nlp-display-entity-type\">PER</span></span><span class=\"spark-nlp-display-others\" style=\"background-color: white\">. After a fire, it closed in 1886. Alumni from the </span><span class=\"spark-nlp-display-entity-wrapper\" style=\"background-color: #43BA3F\"><span class=\"spark-nlp-display-entity-name\">Old University of Chicago </span><span class=\"spark-nlp-display-entity-type\">ORG</span></span><span class=\"spark-nlp-display-others\" style=\"background-color: white\"> are recognized as alumni of the present </span><span class=\"spark-nlp-display-entity-wrapper\" style=\"background-color: #43BA3F\"><span class=\"spark-nlp-display-entity-name\">University of Chicago </span><span class=\"spark-nlp-display-entity-type\">ORG</span></span><span class=\"spark-nlp-display-others\" style=\"background-color: white\">. The university depiction on its coat of arms of a phoenix rising from the ashes is a reference to the fire, foreclosure, and demolition of the </span><span class=\"spark-nlp-display-entity-wrapper\" style=\"background-color: #43BA3F\"><span class=\"spark-nlp-display-entity-name\">Old University of Chicago </span><span class=\"spark-nlp-display-entity-type\">ORG</span></span><span class=\"spark-nlp-display-others\" style=\"background-color: white\"> campus. As an homage to this pre-1890 legacy, a single stone from the rubble of the original </span><span class=\"spark-nlp-display-entity-wrapper\" style=\"background-color: #2F307B\"><span class=\"spark-nlp-display-entity-name\">Douglas Hall </span><span class=\"spark-nlp-display-entity-type\">LOC</span></span><span class=\"spark-nlp-display-others\" style=\"background-color: white\"> on 34th Place was brought to the current </span><span class=\"spark-nlp-display-entity-wrapper\" style=\"background-color: #2F307B\"><span class=\"spark-nlp-display-entity-name\">Hyde Park </span><span class=\"spark-nlp-display-entity-type\">LOC</span></span><span class=\"spark-nlp-display-others\" style=\"background-color: white\"> location and set into the wall of the </span><span class=\"spark-nlp-display-entity-wrapper\" style=\"background-color: #43BA3F\"><span class=\"spark-nlp-display-entity-name\">Classics Building </span><span class=\"spark-nlp-display-entity-type\">ORG</span></span><span class=\"spark-nlp-display-others\" style=\"background-color: white\">. These connections have led the dean of the college and </span><span class=\"spark-nlp-display-entity-wrapper\" style=\"background-color: #43BA3F\"><span class=\"spark-nlp-display-entity-name\">University of Chicago </span><span class=\"spark-nlp-display-entity-type\">ORG</span></span><span class=\"spark-nlp-display-others\" style=\"background-color: white\"> and professor of history </span><span class=\"spark-nlp-display-entity-wrapper\" style=\"background-color: #4FC60B\"><span class=\"spark-nlp-display-entity-name\">John Boyer </span><span class=\"spark-nlp-display-entity-type\">PER</span></span><span class=\"spark-nlp-display-others\" style=\"background-color: white\"> to conclude that the </span><span class=\"spark-nlp-display-entity-wrapper\" style=\"background-color: #43BA3F\"><span class=\"spark-nlp-display-entity-name\">University of Chicago </span><span class=\"spark-nlp-display-entity-type\">ORG</span></span><span class=\"spark-nlp-display-others\" style=\"background-color: white\"> has, a plausible genealogy as a pre?Civil </span><span class=\"spark-nlp-display-entity-wrapper\" style=\"background-color: #574517\"><span class=\"spark-nlp-display-entity-name\">War </span><span class=\"spark-nlp-display-entity-type\">MISC</span></span><span class=\"spark-nlp-display-others\" style=\"background-color: white\"> institution</span></div>"
   ]
  },
  {
   "cell_type": "markdown",
   "id": "31e59e8d",
   "metadata": {},
   "source": [
    "\n",
    "\n",
    "---------------------\n",
    "\n",
    "\n",
    "That's all we'll cover with regard to Spark NLP, but you're encouraged to play around with it further (perhaps [training your own NER model on GPUs](https://github.com/JohnSnowLabs/spark-nlp-workshop/blob/master/tutorials/blogposts/3.NER_with_BERT.ipynb)!) and read the [excellent documentation](https://nlp.johnsnowlabs.com/docs/en/concepts) and [tutorials](https://nlp.johnsnowlabs.com/classify_documents) in more depth."
   ]
  }
 ],
 "metadata": {
  "kernelspec": {
   "display_name": "PySpark",
   "language": "",
   "name": "pysparkkernel"
  },
  "language_info": {
   "codemirror_mode": {
    "name": "python",
    "version": 3
   },
   "mimetype": "text/x-python",
   "name": "pyspark",
   "pygments_lexer": "python3"
  }
 },
 "nbformat": 4,
 "nbformat_minor": 5
}

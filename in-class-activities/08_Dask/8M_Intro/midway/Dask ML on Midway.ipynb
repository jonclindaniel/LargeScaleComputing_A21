{
 "cells": [
  {
   "cell_type": "markdown",
   "metadata": {},
   "source": [
    "# Dask Machine Learning Workflows on the Midway Cluster"
   ]
  },
  {
   "cell_type": "markdown",
   "metadata": {},
   "source": [
    "In this notebook, we are going to focus on two things:\n",
    "1. Learning how to run interactive Dask jobs on the Midway Cluster.\n",
    "2. Exploring Dask's machine learning functionality and its capacity to plug into existing scikit-learn workflows.\n",
    "\n",
    "To accomplish these goals, we will continue to work with the Amazon Customer Reviews Dataset that we saw in the Spark unit. Recall that this dataset is available in the `/project2/macs30123/` directory on Midway2.\n",
    "\n",
    "To run this notebook, you should log in to the Midway Cluster [via ThinLinc](https://midway2.rcc.uchicago.edu/main/). After you're logged in, run the following lines of code in a terminal window from a login node (to load the Python module we've been working with in the class and then install a couple of additional packages we'll be using):\n",
    "```\n",
    "module load python/anaconda-2019.03\n",
    "pip install --user \"dask[complete]\" dask-jobqueue dask-ml --upgrade\n",
    "```\n",
    "Once you have installed these packages, start up a Jupyter Notebook from the login node (you'll be requesting resources via `dask-jobqueue`'s SLURM functions, on which you will run your code):\n",
    "```\n",
    "jupyter notebook\n",
    "```\n",
    "\n",
    "-----\n",
    "\n",
    "*Credits: Thank you to [Yutao Chen](https://github.com/cytwill), who wrote the first version of this notebook (Fall 2020).*"
   ]
  },
  {
   "cell_type": "markdown",
   "metadata": {},
   "source": [
    "## Launching a Dask Cluster via SLURM"
   ]
  },
  {
   "cell_type": "markdown",
   "metadata": {},
   "source": [
    "To request Midway Cluster resources for our Dask Cluster, we have installed [dask-jobqueue](https://jobqueue.dask.org/en/latest/), which can be used to deploy Dask via common job queuing systems like SLURM (used in the Midway Cluster). Furthermore, it allows us to perform these interactions with SLURM an interactive context within a Jupyter Notebook.\n",
    "\n",
    "Specifically, we'll be using the SLURMCluster function to request resources, using many of the same key words that we provide when write an `sbatch` script or provide arguments for `sinteractive` jobs. For instance, here, we're requesting 10 `broadwl` cores with 40GB of memory that are connected via an `ib0` (InfiniBand) interconnect (which we'll have available to us for 1 hour):"
   ]
  },
  {
   "cell_type": "code",
   "execution_count": 7,
   "metadata": {},
   "outputs": [
    {
     "name": "stderr",
     "output_type": "stream",
     "text": [
      "/home/jclindaniel/.local/lib/python3.7/site-packages/distributed/node.py:164: UserWarning: Port 8787 is already in use.\n",
      "Perhaps you already have a cluster running?\n",
      "Hosting the HTTP server on port 35677 instead\n",
      "  expected, actual\n"
     ]
    }
   ],
   "source": [
    "from dask_jobqueue import SLURMCluster\n",
    "\n",
    "# Compose SLURM script\n",
    "cluster = SLURMCluster(queue='broadwl', cores=10, memory='40GB', \n",
    "                       processes=10, walltime='01:00:00', interface='ib0',\n",
    "                       job_extra=['--account=macs30123']\n",
    "                      )\n",
    "\n",
    "# Request resources\n",
    "cluster.scale(jobs=1)"
   ]
  },
  {
   "cell_type": "markdown",
   "metadata": {},
   "source": [
    "We'll need to wait a bit for our resources to be provisioned, but we can check on the progress of our resources via `squeue` as usual:"
   ]
  },
  {
   "cell_type": "code",
   "execution_count": 9,
   "metadata": {},
   "outputs": [
    {
     "name": "stdout",
     "output_type": "stream",
     "text": [
      "             JOBID PARTITION     NAME     USER ST       TIME  NODES NODELIST(REASON)\r\n",
      "          11235832   broadwl dask-wor jclindan  R       0:14      1 midway2-0172\r\n"
     ]
    }
   ],
   "source": [
    "! squeue -u jclindaniel"
   ]
  },
  {
   "cell_type": "markdown",
   "metadata": {},
   "source": [
    "Once our resources have been provisioned, we need to tell Dask that it should use them to run its computations. We can do this, by passing `cluster` into our `dask.distributed` client object."
   ]
  },
  {
   "cell_type": "code",
   "execution_count": 10,
   "metadata": {},
   "outputs": [
    {
     "data": {
      "text/html": [
       "<table style=\"border: 2px solid white;\">\n",
       "<tr>\n",
       "<td style=\"vertical-align: top; border: 0px solid white\">\n",
       "<h3 style=\"text-align: left;\">Client</h3>\n",
       "<ul style=\"text-align: left; list-style: none; margin: 0; padding: 0;\">\n",
       "  <li><b>Scheduler: </b>tcp://172.25.220.71:45736</li>\n",
       "  <li><b>Dashboard: </b><a href='http://172.25.220.71:35677/status' target='_blank'>http://172.25.220.71:35677/status</a></li>\n",
       "</ul>\n",
       "</td>\n",
       "<td style=\"vertical-align: top; border: 0px solid white\">\n",
       "<h3 style=\"text-align: left;\">Cluster</h3>\n",
       "<ul style=\"text-align: left; list-style:none; margin: 0; padding: 0;\">\n",
       "  <li><b>Workers: </b>0</li>\n",
       "  <li><b>Cores: </b>0</li>\n",
       "  <li><b>Memory: </b>0 B</li>\n",
       "</ul>\n",
       "</td>\n",
       "</tr>\n",
       "</table>"
      ],
      "text/plain": [
       "<Client: 'tcp://172.25.220.71:45736' processes=0 threads=0, memory=0 B>"
      ]
     },
     "execution_count": 10,
     "metadata": {},
     "output_type": "execute_result"
    }
   ],
   "source": [
    "from dask.distributed import Client\n",
    "\n",
    "client = Client(cluster)\n",
    "client"
   ]
  },
  {
   "cell_type": "markdown",
   "metadata": {},
   "source": [
    "That's all we need to do! If we want to see an interactive representation of what our workers are doing at any given time, we can click the link above, as in all the other Dask setups. \n",
    "\n",
    "We're now ready to start using Dask. Let's start by reading our Customer Reviews Data (~17 GB in CSV form) into a Dask DataFrame:"
   ]
  },
  {
   "cell_type": "code",
   "execution_count": 35,
   "metadata": {},
   "outputs": [],
   "source": [
    "import dask.dataframe as dd\n",
    "\n",
    "df = dd.read_csv('/project2/macs30123/AWS_book_reviews/*.csv')"
   ]
  },
  {
   "cell_type": "code",
   "execution_count": 36,
   "metadata": {},
   "outputs": [
    {
     "data": {
      "text/html": [
       "<div>\n",
       "<style scoped>\n",
       "    .dataframe tbody tr th:only-of-type {\n",
       "        vertical-align: middle;\n",
       "    }\n",
       "\n",
       "    .dataframe tbody tr th {\n",
       "        vertical-align: top;\n",
       "    }\n",
       "\n",
       "    .dataframe thead th {\n",
       "        text-align: right;\n",
       "    }\n",
       "</style>\n",
       "<table border=\"1\" class=\"dataframe\">\n",
       "  <thead>\n",
       "    <tr style=\"text-align: right;\">\n",
       "      <th></th>\n",
       "      <th>marketplace</th>\n",
       "      <th>customer_id</th>\n",
       "      <th>review_id</th>\n",
       "      <th>product_id</th>\n",
       "      <th>product_parent</th>\n",
       "      <th>product_title</th>\n",
       "      <th>star_rating</th>\n",
       "      <th>helpful_votes</th>\n",
       "      <th>total_votes</th>\n",
       "      <th>vine</th>\n",
       "      <th>verified_purchase</th>\n",
       "      <th>review_headline</th>\n",
       "      <th>review_body</th>\n",
       "      <th>review_date</th>\n",
       "      <th>year</th>\n",
       "    </tr>\n",
       "  </thead>\n",
       "  <tbody>\n",
       "    <tr>\n",
       "      <th>0</th>\n",
       "      <td>US</td>\n",
       "      <td>15444933</td>\n",
       "      <td>R1WWG70WK9VUCH</td>\n",
       "      <td>1848192576</td>\n",
       "      <td>835940987</td>\n",
       "      <td>Standing Qigong for Health and Martial Arts - ...</td>\n",
       "      <td>5</td>\n",
       "      <td>9</td>\n",
       "      <td>10</td>\n",
       "      <td>N</td>\n",
       "      <td>Y</td>\n",
       "      <td>Informative AND interesting!</td>\n",
       "      <td>After attending a few Qigong classes, I wanted...</td>\n",
       "      <td>2015-05-02</td>\n",
       "      <td>2015</td>\n",
       "    </tr>\n",
       "    <tr>\n",
       "      <th>1</th>\n",
       "      <td>US</td>\n",
       "      <td>20595117</td>\n",
       "      <td>R1EQ3POS0RIOD5</td>\n",
       "      <td>145162445X</td>\n",
       "      <td>574044348</td>\n",
       "      <td>A Universe from Nothing: Why There Is Somethin...</td>\n",
       "      <td>4</td>\n",
       "      <td>4</td>\n",
       "      <td>7</td>\n",
       "      <td>N</td>\n",
       "      <td>N</td>\n",
       "      <td>Between 'Nothing' and 'Nothing' somehow we are...</td>\n",
       "      <td>Krauss traces the remarkable transformation in...</td>\n",
       "      <td>2012-06-29</td>\n",
       "      <td>2012</td>\n",
       "    </tr>\n",
       "    <tr>\n",
       "      <th>2</th>\n",
       "      <td>US</td>\n",
       "      <td>52925878</td>\n",
       "      <td>R10SRJA4VVGUBD</td>\n",
       "      <td>055341805X</td>\n",
       "      <td>846590203</td>\n",
       "      <td>Hyacinth Girls: A Novel</td>\n",
       "      <td>4</td>\n",
       "      <td>0</td>\n",
       "      <td>0</td>\n",
       "      <td>Y</td>\n",
       "      <td>N</td>\n",
       "      <td>Mysteries upon mysteries</td>\n",
       "      <td>Rebecca, a dental hygienist, receives a call a...</td>\n",
       "      <td>2015-05-02</td>\n",
       "      <td>2015</td>\n",
       "    </tr>\n",
       "    <tr>\n",
       "      <th>3</th>\n",
       "      <td>US</td>\n",
       "      <td>40062567</td>\n",
       "      <td>RD3268X41GM7U</td>\n",
       "      <td>0425263908</td>\n",
       "      <td>119148606</td>\n",
       "      <td>Bared to You</td>\n",
       "      <td>5</td>\n",
       "      <td>1</td>\n",
       "      <td>1</td>\n",
       "      <td>N</td>\n",
       "      <td>N</td>\n",
       "      <td>\"RAW, STEAMY, HYPNOTIC!\"</td>\n",
       "      <td>\\\\\"BARED TO YOU\\\\\" is a sizzling, red-hot pass...</td>\n",
       "      <td>2012-06-29</td>\n",
       "      <td>2012</td>\n",
       "    </tr>\n",
       "    <tr>\n",
       "      <th>4</th>\n",
       "      <td>US</td>\n",
       "      <td>47221489</td>\n",
       "      <td>R3KGQL5X5BSJE1</td>\n",
       "      <td>1416556141</td>\n",
       "      <td>987400385</td>\n",
       "      <td>Healer: A Novel</td>\n",
       "      <td>5</td>\n",
       "      <td>0</td>\n",
       "      <td>0</td>\n",
       "      <td>N</td>\n",
       "      <td>Y</td>\n",
       "      <td>Well written story</td>\n",
       "      <td>Good characters and plot line. I spent a pleas...</td>\n",
       "      <td>2015-05-02</td>\n",
       "      <td>2015</td>\n",
       "    </tr>\n",
       "  </tbody>\n",
       "</table>\n",
       "</div>"
      ],
      "text/plain": [
       "  marketplace  customer_id       review_id  product_id  product_parent  \\\n",
       "0          US     15444933  R1WWG70WK9VUCH  1848192576       835940987   \n",
       "1          US     20595117  R1EQ3POS0RIOD5  145162445X       574044348   \n",
       "2          US     52925878  R10SRJA4VVGUBD  055341805X       846590203   \n",
       "3          US     40062567   RD3268X41GM7U  0425263908       119148606   \n",
       "4          US     47221489  R3KGQL5X5BSJE1  1416556141       987400385   \n",
       "\n",
       "                                       product_title  star_rating  \\\n",
       "0  Standing Qigong for Health and Martial Arts - ...            5   \n",
       "1  A Universe from Nothing: Why There Is Somethin...            4   \n",
       "2                            Hyacinth Girls: A Novel            4   \n",
       "3                                       Bared to You            5   \n",
       "4                                    Healer: A Novel            5   \n",
       "\n",
       "   helpful_votes  total_votes vine verified_purchase  \\\n",
       "0              9           10    N                 Y   \n",
       "1              4            7    N                 N   \n",
       "2              0            0    Y                 N   \n",
       "3              1            1    N                 N   \n",
       "4              0            0    N                 Y   \n",
       "\n",
       "                                     review_headline  \\\n",
       "0                       Informative AND interesting!   \n",
       "1  Between 'Nothing' and 'Nothing' somehow we are...   \n",
       "2                           Mysteries upon mysteries   \n",
       "3                           \"RAW, STEAMY, HYPNOTIC!\"   \n",
       "4                                 Well written story   \n",
       "\n",
       "                                         review_body review_date  year  \n",
       "0  After attending a few Qigong classes, I wanted...  2015-05-02  2015  \n",
       "1  Krauss traces the remarkable transformation in...  2012-06-29  2012  \n",
       "2  Rebecca, a dental hygienist, receives a call a...  2015-05-02  2015  \n",
       "3  \\\\\"BARED TO YOU\\\\\" is a sizzling, red-hot pass...  2012-06-29  2012  \n",
       "4  Good characters and plot line. I spent a pleas...  2015-05-02  2015  "
      ]
     },
     "execution_count": 36,
     "metadata": {},
     "output_type": "execute_result"
    }
   ],
   "source": [
    "df.head()"
   ]
  },
  {
   "cell_type": "code",
   "execution_count": 37,
   "metadata": {},
   "outputs": [
    {
     "data": {
      "text/plain": [
       "marketplace          object\n",
       "customer_id           int64\n",
       "review_id            object\n",
       "product_id           object\n",
       "product_parent        int64\n",
       "product_title        object\n",
       "star_rating           int64\n",
       "helpful_votes         int64\n",
       "total_votes           int64\n",
       "vine                 object\n",
       "verified_purchase    object\n",
       "review_headline      object\n",
       "review_body          object\n",
       "review_date          object\n",
       "year                  int64\n",
       "dtype: object"
      ]
     },
     "execution_count": 37,
     "metadata": {},
     "output_type": "execute_result"
    }
   ],
   "source": [
    "df.dtypes"
   ]
  },
  {
   "cell_type": "markdown",
   "metadata": {},
   "source": [
    "Note that if we look at the shape of the DataFrame, we can't actually see the number of rows immediately -- this is a `delayed` object that is only computed if we call the `.compute()` method. We need to do the same in order to describe our DataFrame as whole. Recall that, under the hood, Dask constructs an optimal task graph and only executes this series of tasks when we call the `.compute()` method:"
   ]
  },
  {
   "cell_type": "code",
   "execution_count": 38,
   "metadata": {},
   "outputs": [
    {
     "data": {
      "text/plain": [
       "(Delayed('int-10e7f37f-3e63-48e2-94aa-00008a8e79fd'), 15)"
      ]
     },
     "execution_count": 38,
     "metadata": {},
     "output_type": "execute_result"
    }
   ],
   "source": [
    "df.shape"
   ]
  },
  {
   "cell_type": "code",
   "execution_count": 39,
   "metadata": {},
   "outputs": [
    {
     "data": {
      "text/plain": [
       "20726160"
      ]
     },
     "execution_count": 39,
     "metadata": {},
     "output_type": "execute_result"
    }
   ],
   "source": [
    "df.shape[0].compute()"
   ]
  },
  {
   "cell_type": "code",
   "execution_count": 40,
   "metadata": {},
   "outputs": [
    {
     "data": {
      "text/html": [
       "<div>\n",
       "<style scoped>\n",
       "    .dataframe tbody tr th:only-of-type {\n",
       "        vertical-align: middle;\n",
       "    }\n",
       "\n",
       "    .dataframe tbody tr th {\n",
       "        vertical-align: top;\n",
       "    }\n",
       "\n",
       "    .dataframe thead th {\n",
       "        text-align: right;\n",
       "    }\n",
       "</style>\n",
       "<table border=\"1\" class=\"dataframe\">\n",
       "  <thead>\n",
       "    <tr style=\"text-align: right;\">\n",
       "      <th></th>\n",
       "      <th>customer_id</th>\n",
       "      <th>product_parent</th>\n",
       "      <th>star_rating</th>\n",
       "      <th>helpful_votes</th>\n",
       "      <th>total_votes</th>\n",
       "      <th>year</th>\n",
       "    </tr>\n",
       "  </thead>\n",
       "  <tbody>\n",
       "    <tr>\n",
       "      <th>count</th>\n",
       "      <td>2.072616e+07</td>\n",
       "      <td>2.072616e+07</td>\n",
       "      <td>2.072616e+07</td>\n",
       "      <td>2.072616e+07</td>\n",
       "      <td>2.072616e+07</td>\n",
       "      <td>2.072616e+07</td>\n",
       "    </tr>\n",
       "    <tr>\n",
       "      <th>mean</th>\n",
       "      <td>3.287233e+07</td>\n",
       "      <td>5.012232e+08</td>\n",
       "      <td>4.340540e+00</td>\n",
       "      <td>3.836475e+00</td>\n",
       "      <td>5.332147e+00</td>\n",
       "      <td>2.010451e+03</td>\n",
       "    </tr>\n",
       "    <tr>\n",
       "      <th>std</th>\n",
       "      <td>1.545060e+07</td>\n",
       "      <td>2.878609e+08</td>\n",
       "      <td>1.125604e+00</td>\n",
       "      <td>2.240867e+01</td>\n",
       "      <td>2.581018e+01</td>\n",
       "      <td>4.506381e+00</td>\n",
       "    </tr>\n",
       "    <tr>\n",
       "      <th>min</th>\n",
       "      <td>1.002400e+04</td>\n",
       "      <td>5.760000e+02</td>\n",
       "      <td>1.000000e+00</td>\n",
       "      <td>0.000000e+00</td>\n",
       "      <td>0.000000e+00</td>\n",
       "      <td>1.995000e+03</td>\n",
       "    </tr>\n",
       "    <tr>\n",
       "      <th>25%</th>\n",
       "      <td>2.888019e+07</td>\n",
       "      <td>2.623204e+08</td>\n",
       "      <td>4.000000e+00</td>\n",
       "      <td>0.000000e+00</td>\n",
       "      <td>1.000000e+00</td>\n",
       "      <td>2.010000e+03</td>\n",
       "    </tr>\n",
       "    <tr>\n",
       "      <th>50%</th>\n",
       "      <td>4.314521e+07</td>\n",
       "      <td>5.120222e+08</td>\n",
       "      <td>5.000000e+00</td>\n",
       "      <td>1.000000e+00</td>\n",
       "      <td>2.000000e+00</td>\n",
       "      <td>2.013000e+03</td>\n",
       "    </tr>\n",
       "    <tr>\n",
       "      <th>75%</th>\n",
       "      <td>5.259045e+07</td>\n",
       "      <td>7.577690e+08</td>\n",
       "      <td>5.000000e+00</td>\n",
       "      <td>7.000000e+00</td>\n",
       "      <td>9.000000e+00</td>\n",
       "      <td>2.014000e+03</td>\n",
       "    </tr>\n",
       "    <tr>\n",
       "      <th>max</th>\n",
       "      <td>5.309659e+07</td>\n",
       "      <td>9.999999e+08</td>\n",
       "      <td>5.000000e+00</td>\n",
       "      <td>2.755000e+04</td>\n",
       "      <td>2.872700e+04</td>\n",
       "      <td>2.015000e+03</td>\n",
       "    </tr>\n",
       "  </tbody>\n",
       "</table>\n",
       "</div>"
      ],
      "text/plain": [
       "        customer_id  product_parent   star_rating  helpful_votes  \\\n",
       "count  2.072616e+07    2.072616e+07  2.072616e+07   2.072616e+07   \n",
       "mean   3.287233e+07    5.012232e+08  4.340540e+00   3.836475e+00   \n",
       "std    1.545060e+07    2.878609e+08  1.125604e+00   2.240867e+01   \n",
       "min    1.002400e+04    5.760000e+02  1.000000e+00   0.000000e+00   \n",
       "25%    2.888019e+07    2.623204e+08  4.000000e+00   0.000000e+00   \n",
       "50%    4.314521e+07    5.120222e+08  5.000000e+00   1.000000e+00   \n",
       "75%    5.259045e+07    7.577690e+08  5.000000e+00   7.000000e+00   \n",
       "max    5.309659e+07    9.999999e+08  5.000000e+00   2.755000e+04   \n",
       "\n",
       "        total_votes          year  \n",
       "count  2.072616e+07  2.072616e+07  \n",
       "mean   5.332147e+00  2.010451e+03  \n",
       "std    2.581018e+01  4.506381e+00  \n",
       "min    0.000000e+00  1.995000e+03  \n",
       "25%    1.000000e+00  2.010000e+03  \n",
       "50%    2.000000e+00  2.013000e+03  \n",
       "75%    9.000000e+00  2.014000e+03  \n",
       "max    2.872700e+04  2.015000e+03  "
      ]
     },
     "execution_count": 40,
     "metadata": {},
     "output_type": "execute_result"
    }
   ],
   "source": [
    "df.describe().compute()"
   ]
  },
  {
   "cell_type": "markdown",
   "metadata": {},
   "source": [
    "### Preprocessing"
   ]
  },
  {
   "cell_type": "markdown",
   "metadata": {},
   "source": [
    "Next, let's perform some basic preprocessing for the book review dataset to obtain features for our machine learning demonstration later on. Intuitively, ID-like attributes are not likely to provide much useful information. Other attributes like total_votes and helpful_votes might contain more useful information about the ratings of books. We can make a mean calculation based on the groupby results to check our assumptions (here, across several different marketplaces):"
   ]
  },
  {
   "cell_type": "code",
   "execution_count": 41,
   "metadata": {},
   "outputs": [
    {
     "data": {
      "text/html": [
       "<div>\n",
       "<style scoped>\n",
       "    .dataframe tbody tr th:only-of-type {\n",
       "        vertical-align: middle;\n",
       "    }\n",
       "\n",
       "    .dataframe tbody tr th {\n",
       "        vertical-align: top;\n",
       "    }\n",
       "\n",
       "    .dataframe thead th {\n",
       "        text-align: right;\n",
       "    }\n",
       "</style>\n",
       "<table border=\"1\" class=\"dataframe\">\n",
       "  <thead>\n",
       "    <tr style=\"text-align: right;\">\n",
       "      <th></th>\n",
       "      <th>customer_id</th>\n",
       "      <th>product_parent</th>\n",
       "      <th>star_rating</th>\n",
       "      <th>helpful_votes</th>\n",
       "      <th>total_votes</th>\n",
       "      <th>year</th>\n",
       "    </tr>\n",
       "    <tr>\n",
       "      <th>marketplace</th>\n",
       "      <th></th>\n",
       "      <th></th>\n",
       "      <th></th>\n",
       "      <th></th>\n",
       "      <th></th>\n",
       "      <th></th>\n",
       "    </tr>\n",
       "  </thead>\n",
       "  <tbody>\n",
       "    <tr>\n",
       "      <th>DE</th>\n",
       "      <td>4.196011e+07</td>\n",
       "      <td>5.047194e+08</td>\n",
       "      <td>4.358941</td>\n",
       "      <td>2.360758</td>\n",
       "      <td>3.647635</td>\n",
       "      <td>2005.886768</td>\n",
       "    </tr>\n",
       "    <tr>\n",
       "      <th>FR</th>\n",
       "      <td>3.075995e+07</td>\n",
       "      <td>5.214875e+08</td>\n",
       "      <td>4.308173</td>\n",
       "      <td>2.785668</td>\n",
       "      <td>3.946417</td>\n",
       "      <td>2011.635635</td>\n",
       "    </tr>\n",
       "    <tr>\n",
       "      <th>JP</th>\n",
       "      <td>3.667752e+07</td>\n",
       "      <td>5.157488e+08</td>\n",
       "      <td>4.452929</td>\n",
       "      <td>6.054778</td>\n",
       "      <td>8.073038</td>\n",
       "      <td>2009.791874</td>\n",
       "    </tr>\n",
       "    <tr>\n",
       "      <th>UK</th>\n",
       "      <td>3.263059e+07</td>\n",
       "      <td>5.065183e+08</td>\n",
       "      <td>4.363765</td>\n",
       "      <td>2.979392</td>\n",
       "      <td>4.290699</td>\n",
       "      <td>2012.018752</td>\n",
       "    </tr>\n",
       "    <tr>\n",
       "      <th>US</th>\n",
       "      <td>3.284676e+07</td>\n",
       "      <td>5.011147e+08</td>\n",
       "      <td>4.340153</td>\n",
       "      <td>3.851688</td>\n",
       "      <td>5.350379</td>\n",
       "      <td>2010.444432</td>\n",
       "    </tr>\n",
       "  </tbody>\n",
       "</table>\n",
       "</div>"
      ],
      "text/plain": [
       "              customer_id  product_parent  star_rating  helpful_votes  \\\n",
       "marketplace                                                             \n",
       "DE           4.196011e+07    5.047194e+08     4.358941       2.360758   \n",
       "FR           3.075995e+07    5.214875e+08     4.308173       2.785668   \n",
       "JP           3.667752e+07    5.157488e+08     4.452929       6.054778   \n",
       "UK           3.263059e+07    5.065183e+08     4.363765       2.979392   \n",
       "US           3.284676e+07    5.011147e+08     4.340153       3.851688   \n",
       "\n",
       "             total_votes         year  \n",
       "marketplace                            \n",
       "DE              3.647635  2005.886768  \n",
       "FR              3.946417  2011.635635  \n",
       "JP              8.073038  2009.791874  \n",
       "UK              4.290699  2012.018752  \n",
       "US              5.350379  2010.444432  "
      ]
     },
     "execution_count": 41,
     "metadata": {},
     "output_type": "execute_result"
    }
   ],
   "source": [
    "(df.groupby(by='marketplace')\n",
    "   .mean()\n",
    "   .compute()\n",
    ")"
   ]
  },
  {
   "cell_type": "markdown",
   "metadata": {},
   "source": [
    "Not all of our data is numerical, though. We might want to encode categorial variables -- for instance, whether a user is a \"Vine\" member, or is a verified purchaser. These are both binary categories, so we'll just assign yes to \"1\" and no \"0.\""
   ]
  },
  {
   "cell_type": "code",
   "execution_count": 42,
   "metadata": {},
   "outputs": [],
   "source": [
    "df['vine_code'] = df['vine'].apply(lambda x:1 if x=='Y' else 0, meta=('vine', 'int64'))\n",
    "df['verified_purchase_code'] = df['verified_purchase'].apply(lambda x:1 if x=='Y' else 0,\n",
    "                                                                 meta=('verified_purchase', 'int64'))"
   ]
  },
  {
   "cell_type": "code",
   "execution_count": 43,
   "metadata": {},
   "outputs": [
    {
     "data": {
      "text/html": [
       "<div>\n",
       "<style scoped>\n",
       "    .dataframe tbody tr th:only-of-type {\n",
       "        vertical-align: middle;\n",
       "    }\n",
       "\n",
       "    .dataframe tbody tr th {\n",
       "        vertical-align: top;\n",
       "    }\n",
       "\n",
       "    .dataframe thead th {\n",
       "        text-align: right;\n",
       "    }\n",
       "</style>\n",
       "<table border=\"1\" class=\"dataframe\">\n",
       "  <thead>\n",
       "    <tr style=\"text-align: right;\">\n",
       "      <th></th>\n",
       "      <th>vine_code</th>\n",
       "      <th>verified_purchase_code</th>\n",
       "    </tr>\n",
       "  </thead>\n",
       "  <tbody>\n",
       "    <tr>\n",
       "      <th>0</th>\n",
       "      <td>0</td>\n",
       "      <td>1</td>\n",
       "    </tr>\n",
       "    <tr>\n",
       "      <th>1</th>\n",
       "      <td>0</td>\n",
       "      <td>0</td>\n",
       "    </tr>\n",
       "    <tr>\n",
       "      <th>2</th>\n",
       "      <td>1</td>\n",
       "      <td>0</td>\n",
       "    </tr>\n",
       "    <tr>\n",
       "      <th>3</th>\n",
       "      <td>0</td>\n",
       "      <td>0</td>\n",
       "    </tr>\n",
       "    <tr>\n",
       "      <th>4</th>\n",
       "      <td>0</td>\n",
       "      <td>1</td>\n",
       "    </tr>\n",
       "  </tbody>\n",
       "</table>\n",
       "</div>"
      ],
      "text/plain": [
       "   vine_code  verified_purchase_code\n",
       "0          0                       1\n",
       "1          0                       0\n",
       "2          1                       0\n",
       "3          0                       0\n",
       "4          0                       1"
      ]
     },
     "execution_count": 43,
     "metadata": {},
     "output_type": "execute_result"
    }
   ],
   "source": [
    "df[['vine_code','verified_purchase_code']].head()"
   ]
  },
  {
   "cell_type": "markdown",
   "metadata": {},
   "source": [
    "We can also construct new columns in our DataFrame, derived from existing columns. To match our PySpark example from last week, let's create a column based on \"Star Rating\" that assigns any rating greater than 3 as a \"good\" review and any rating less than that as a \"bad\" one. We'll call this column `label`, as it will be the label we try to predict when fit our classifier later on:"
   ]
  },
  {
   "cell_type": "code",
   "execution_count": 44,
   "metadata": {},
   "outputs": [
    {
     "data": {
      "text/html": [
       "<div>\n",
       "<style scoped>\n",
       "    .dataframe tbody tr th:only-of-type {\n",
       "        vertical-align: middle;\n",
       "    }\n",
       "\n",
       "    .dataframe tbody tr th {\n",
       "        vertical-align: top;\n",
       "    }\n",
       "\n",
       "    .dataframe thead th {\n",
       "        text-align: right;\n",
       "    }\n",
       "</style>\n",
       "<table border=\"1\" class=\"dataframe\">\n",
       "  <thead>\n",
       "    <tr style=\"text-align: right;\">\n",
       "      <th></th>\n",
       "      <th>marketplace</th>\n",
       "      <th>customer_id</th>\n",
       "      <th>review_id</th>\n",
       "      <th>product_id</th>\n",
       "      <th>product_parent</th>\n",
       "      <th>product_title</th>\n",
       "      <th>star_rating</th>\n",
       "      <th>helpful_votes</th>\n",
       "      <th>total_votes</th>\n",
       "      <th>vine</th>\n",
       "      <th>verified_purchase</th>\n",
       "      <th>review_headline</th>\n",
       "      <th>review_body</th>\n",
       "      <th>review_date</th>\n",
       "      <th>year</th>\n",
       "      <th>vine_code</th>\n",
       "      <th>verified_purchase_code</th>\n",
       "      <th>label</th>\n",
       "    </tr>\n",
       "  </thead>\n",
       "  <tbody>\n",
       "    <tr>\n",
       "      <th>0</th>\n",
       "      <td>US</td>\n",
       "      <td>15444933</td>\n",
       "      <td>R1WWG70WK9VUCH</td>\n",
       "      <td>1848192576</td>\n",
       "      <td>835940987</td>\n",
       "      <td>Standing Qigong for Health and Martial Arts - ...</td>\n",
       "      <td>5</td>\n",
       "      <td>9</td>\n",
       "      <td>10</td>\n",
       "      <td>N</td>\n",
       "      <td>Y</td>\n",
       "      <td>Informative AND interesting!</td>\n",
       "      <td>After attending a few Qigong classes, I wanted...</td>\n",
       "      <td>2015-05-02</td>\n",
       "      <td>2015</td>\n",
       "      <td>0</td>\n",
       "      <td>1</td>\n",
       "      <td>1</td>\n",
       "    </tr>\n",
       "    <tr>\n",
       "      <th>1</th>\n",
       "      <td>US</td>\n",
       "      <td>20595117</td>\n",
       "      <td>R1EQ3POS0RIOD5</td>\n",
       "      <td>145162445X</td>\n",
       "      <td>574044348</td>\n",
       "      <td>A Universe from Nothing: Why There Is Somethin...</td>\n",
       "      <td>4</td>\n",
       "      <td>4</td>\n",
       "      <td>7</td>\n",
       "      <td>N</td>\n",
       "      <td>N</td>\n",
       "      <td>Between 'Nothing' and 'Nothing' somehow we are...</td>\n",
       "      <td>Krauss traces the remarkable transformation in...</td>\n",
       "      <td>2012-06-29</td>\n",
       "      <td>2012</td>\n",
       "      <td>0</td>\n",
       "      <td>0</td>\n",
       "      <td>1</td>\n",
       "    </tr>\n",
       "    <tr>\n",
       "      <th>2</th>\n",
       "      <td>US</td>\n",
       "      <td>52925878</td>\n",
       "      <td>R10SRJA4VVGUBD</td>\n",
       "      <td>055341805X</td>\n",
       "      <td>846590203</td>\n",
       "      <td>Hyacinth Girls: A Novel</td>\n",
       "      <td>4</td>\n",
       "      <td>0</td>\n",
       "      <td>0</td>\n",
       "      <td>Y</td>\n",
       "      <td>N</td>\n",
       "      <td>Mysteries upon mysteries</td>\n",
       "      <td>Rebecca, a dental hygienist, receives a call a...</td>\n",
       "      <td>2015-05-02</td>\n",
       "      <td>2015</td>\n",
       "      <td>1</td>\n",
       "      <td>0</td>\n",
       "      <td>1</td>\n",
       "    </tr>\n",
       "    <tr>\n",
       "      <th>3</th>\n",
       "      <td>US</td>\n",
       "      <td>40062567</td>\n",
       "      <td>RD3268X41GM7U</td>\n",
       "      <td>0425263908</td>\n",
       "      <td>119148606</td>\n",
       "      <td>Bared to You</td>\n",
       "      <td>5</td>\n",
       "      <td>1</td>\n",
       "      <td>1</td>\n",
       "      <td>N</td>\n",
       "      <td>N</td>\n",
       "      <td>\"RAW, STEAMY, HYPNOTIC!\"</td>\n",
       "      <td>\\\\\"BARED TO YOU\\\\\" is a sizzling, red-hot pass...</td>\n",
       "      <td>2012-06-29</td>\n",
       "      <td>2012</td>\n",
       "      <td>0</td>\n",
       "      <td>0</td>\n",
       "      <td>1</td>\n",
       "    </tr>\n",
       "    <tr>\n",
       "      <th>4</th>\n",
       "      <td>US</td>\n",
       "      <td>47221489</td>\n",
       "      <td>R3KGQL5X5BSJE1</td>\n",
       "      <td>1416556141</td>\n",
       "      <td>987400385</td>\n",
       "      <td>Healer: A Novel</td>\n",
       "      <td>5</td>\n",
       "      <td>0</td>\n",
       "      <td>0</td>\n",
       "      <td>N</td>\n",
       "      <td>Y</td>\n",
       "      <td>Well written story</td>\n",
       "      <td>Good characters and plot line. I spent a pleas...</td>\n",
       "      <td>2015-05-02</td>\n",
       "      <td>2015</td>\n",
       "      <td>0</td>\n",
       "      <td>1</td>\n",
       "      <td>1</td>\n",
       "    </tr>\n",
       "  </tbody>\n",
       "</table>\n",
       "</div>"
      ],
      "text/plain": [
       "  marketplace  customer_id       review_id  product_id  product_parent  \\\n",
       "0          US     15444933  R1WWG70WK9VUCH  1848192576       835940987   \n",
       "1          US     20595117  R1EQ3POS0RIOD5  145162445X       574044348   \n",
       "2          US     52925878  R10SRJA4VVGUBD  055341805X       846590203   \n",
       "3          US     40062567   RD3268X41GM7U  0425263908       119148606   \n",
       "4          US     47221489  R3KGQL5X5BSJE1  1416556141       987400385   \n",
       "\n",
       "                                       product_title  star_rating  \\\n",
       "0  Standing Qigong for Health and Martial Arts - ...            5   \n",
       "1  A Universe from Nothing: Why There Is Somethin...            4   \n",
       "2                            Hyacinth Girls: A Novel            4   \n",
       "3                                       Bared to You            5   \n",
       "4                                    Healer: A Novel            5   \n",
       "\n",
       "   helpful_votes  total_votes vine verified_purchase  \\\n",
       "0              9           10    N                 Y   \n",
       "1              4            7    N                 N   \n",
       "2              0            0    Y                 N   \n",
       "3              1            1    N                 N   \n",
       "4              0            0    N                 Y   \n",
       "\n",
       "                                     review_headline  \\\n",
       "0                       Informative AND interesting!   \n",
       "1  Between 'Nothing' and 'Nothing' somehow we are...   \n",
       "2                           Mysteries upon mysteries   \n",
       "3                           \"RAW, STEAMY, HYPNOTIC!\"   \n",
       "4                                 Well written story   \n",
       "\n",
       "                                         review_body review_date  year  \\\n",
       "0  After attending a few Qigong classes, I wanted...  2015-05-02  2015   \n",
       "1  Krauss traces the remarkable transformation in...  2012-06-29  2012   \n",
       "2  Rebecca, a dental hygienist, receives a call a...  2015-05-02  2015   \n",
       "3  \\\\\"BARED TO YOU\\\\\" is a sizzling, red-hot pass...  2012-06-29  2012   \n",
       "4  Good characters and plot line. I spent a pleas...  2015-05-02  2015   \n",
       "\n",
       "   vine_code  verified_purchase_code  label  \n",
       "0          0                       1      1  \n",
       "1          0                       0      1  \n",
       "2          1                       0      1  \n",
       "3          0                       0      1  \n",
       "4          0                       1      1  "
      ]
     },
     "execution_count": 44,
     "metadata": {},
     "output_type": "execute_result"
    }
   ],
   "source": [
    "df['label'] = df['star_rating'].apply(lambda x: 1 if x > 3 else 0, meta=('star_rating', 'int64'))\n",
    "df.head()"
   ]
  },
  {
   "cell_type": "code",
   "execution_count": 45,
   "metadata": {},
   "outputs": [
    {
     "data": {
      "text/plain": [
       "label\n",
       "0     3517710\n",
       "1    17208450\n",
       "Name: star_rating, dtype: int64"
      ]
     },
     "execution_count": 45,
     "metadata": {},
     "output_type": "execute_result"
    }
   ],
   "source": [
    "df.groupby('label').count().compute()['star_rating'] # not balanced"
   ]
  },
  {
   "cell_type": "markdown",
   "metadata": {},
   "source": [
    "OK, so we have some features and we have a label that we want to use them to predict (e.g. will a review be \"bad\" or \"good?\"). Let's arbitrarily pick some of these features and proceed with fitting our model (it's your job in Assignment 3 to construct better ones!):"
   ]
  },
  {
   "cell_type": "code",
   "execution_count": 46,
   "metadata": {},
   "outputs": [],
   "source": [
    "num_feature_df = df[['helpful_votes','total_votes','vine_code','verified_purchase_code']]"
   ]
  },
  {
   "cell_type": "markdown",
   "metadata": {},
   "source": [
    "Finally, before we fit our model, let's scale our data to decrease the effect of different scales for different attributes (for different scale methods, see [here](https://ml.dask.org/modules/api.html#module-dask_ml.preprocessing)):"
   ]
  },
  {
   "cell_type": "code",
   "execution_count": 47,
   "metadata": {},
   "outputs": [
    {
     "data": {
      "text/html": [
       "<div>\n",
       "<style scoped>\n",
       "    .dataframe tbody tr th:only-of-type {\n",
       "        vertical-align: middle;\n",
       "    }\n",
       "\n",
       "    .dataframe tbody tr th {\n",
       "        vertical-align: top;\n",
       "    }\n",
       "\n",
       "    .dataframe thead th {\n",
       "        text-align: right;\n",
       "    }\n",
       "</style>\n",
       "<table border=\"1\" class=\"dataframe\">\n",
       "  <thead>\n",
       "    <tr style=\"text-align: right;\">\n",
       "      <th></th>\n",
       "      <th>helpful_votes</th>\n",
       "      <th>total_votes</th>\n",
       "      <th>vine_code</th>\n",
       "      <th>verified_purchase_code</th>\n",
       "    </tr>\n",
       "  </thead>\n",
       "  <tbody>\n",
       "    <tr>\n",
       "      <th>0</th>\n",
       "      <td>0.000327</td>\n",
       "      <td>0.000348</td>\n",
       "      <td>0.0</td>\n",
       "      <td>1.0</td>\n",
       "    </tr>\n",
       "    <tr>\n",
       "      <th>1</th>\n",
       "      <td>0.000145</td>\n",
       "      <td>0.000244</td>\n",
       "      <td>0.0</td>\n",
       "      <td>0.0</td>\n",
       "    </tr>\n",
       "    <tr>\n",
       "      <th>2</th>\n",
       "      <td>0.000000</td>\n",
       "      <td>0.000000</td>\n",
       "      <td>1.0</td>\n",
       "      <td>0.0</td>\n",
       "    </tr>\n",
       "    <tr>\n",
       "      <th>3</th>\n",
       "      <td>0.000036</td>\n",
       "      <td>0.000035</td>\n",
       "      <td>0.0</td>\n",
       "      <td>0.0</td>\n",
       "    </tr>\n",
       "    <tr>\n",
       "      <th>4</th>\n",
       "      <td>0.000000</td>\n",
       "      <td>0.000000</td>\n",
       "      <td>0.0</td>\n",
       "      <td>1.0</td>\n",
       "    </tr>\n",
       "  </tbody>\n",
       "</table>\n",
       "</div>"
      ],
      "text/plain": [
       "   helpful_votes  total_votes  vine_code  verified_purchase_code\n",
       "0       0.000327     0.000348        0.0                     1.0\n",
       "1       0.000145     0.000244        0.0                     0.0\n",
       "2       0.000000     0.000000        1.0                     0.0\n",
       "3       0.000036     0.000035        0.0                     0.0\n",
       "4       0.000000     0.000000        0.0                     1.0"
      ]
     },
     "execution_count": 47,
     "metadata": {},
     "output_type": "execute_result"
    }
   ],
   "source": [
    "from dask_ml.preprocessing import MinMaxScaler\n",
    "\n",
    "scaler = MinMaxScaler()\n",
    "num_feature_df = scaler.fit_transform(num_feature_df)\n",
    "num_feature_df.head()"
   ]
  },
  {
   "cell_type": "markdown",
   "metadata": {},
   "source": [
    "And we'll compute the overall size (and chunk size) of our datasets, so we can best decide how many samples we need for training and test data sets. Otherwise, we would not know the total sample size of our feature and label arrays (since they're distributed over multiple workers):"
   ]
  },
  {
   "cell_type": "code",
   "execution_count": 48,
   "metadata": {},
   "outputs": [],
   "source": [
    "import dask.array\n",
    "\n",
    "label_array = (df['label'].to_dask_array()\n",
    "                          .compute_chunk_sizes()\n",
    "              )\n",
    "num_feature_array = (num_feature_df.to_dask_array()\n",
    "                                   .compute_chunk_sizes()\n",
    "                    )"
   ]
  },
  {
   "cell_type": "markdown",
   "metadata": {},
   "source": [
    "### Machine Learning"
   ]
  },
  {
   "cell_type": "markdown",
   "metadata": {},
   "source": [
    "Now that we know the size of our data (and how much of it is on different workers), we can split up our data into training and testing sets:"
   ]
  },
  {
   "cell_type": "code",
   "execution_count": 49,
   "metadata": {},
   "outputs": [],
   "source": [
    "from dask_ml.model_selection import train_test_split\n",
    "\n",
    "X_train, X_test, y_train, y_test = train_test_split(num_feature_array, \n",
    "                                            label_array,\n",
    "                                            train_size=0.7,test_size=0.3,\n",
    "                                            random_state=0)"
   ]
  },
  {
   "cell_type": "code",
   "execution_count": 50,
   "metadata": {},
   "outputs": [
    {
     "data": {
      "text/html": [
       "<table>\n",
       "<tr>\n",
       "<td>\n",
       "<table>\n",
       "  <thead>\n",
       "    <tr><td> </td><th> Array </th><th> Chunk </th></tr>\n",
       "  </thead>\n",
       "  <tbody>\n",
       "    <tr><th> Bytes </th><td> 442.75 MiB </td> <td> 2.76 MiB </td></tr>\n",
       "    <tr><th> Shape </th><td> (14508174, 4) </td> <td> (90538, 4) </td></tr>\n",
       "    <tr><th> Count </th><td> 1960 Tasks </td><td> 280 Chunks </td></tr>\n",
       "    <tr><th> Type </th><td> float64 </td><td> numpy.ndarray </td></tr>\n",
       "  </tbody>\n",
       "</table>\n",
       "</td>\n",
       "<td>\n",
       "<svg width=\"75\" height=\"170\" style=\"stroke:rgb(0,0,0);stroke-width:1\" >\n",
       "\n",
       "  <!-- Horizontal lines -->\n",
       "  <line x1=\"0\" y1=\"0\" x2=\"25\" y2=\"0\" style=\"stroke-width:2\" />\n",
       "  <line x1=\"0\" y1=\"6\" x2=\"25\" y2=\"6\" />\n",
       "  <line x1=\"0\" y1=\"12\" x2=\"25\" y2=\"12\" />\n",
       "  <line x1=\"0\" y1=\"19\" x2=\"25\" y2=\"19\" />\n",
       "  <line x1=\"0\" y1=\"25\" x2=\"25\" y2=\"25\" />\n",
       "  <line x1=\"0\" y1=\"31\" x2=\"25\" y2=\"31\" />\n",
       "  <line x1=\"0\" y1=\"37\" x2=\"25\" y2=\"37\" />\n",
       "  <line x1=\"0\" y1=\"44\" x2=\"25\" y2=\"44\" />\n",
       "  <line x1=\"0\" y1=\"50\" x2=\"25\" y2=\"50\" />\n",
       "  <line x1=\"0\" y1=\"56\" x2=\"25\" y2=\"56\" />\n",
       "  <line x1=\"0\" y1=\"63\" x2=\"25\" y2=\"63\" />\n",
       "  <line x1=\"0\" y1=\"69\" x2=\"25\" y2=\"69\" />\n",
       "  <line x1=\"0\" y1=\"76\" x2=\"25\" y2=\"76\" />\n",
       "  <line x1=\"0\" y1=\"81\" x2=\"25\" y2=\"81\" />\n",
       "  <line x1=\"0\" y1=\"89\" x2=\"25\" y2=\"89\" />\n",
       "  <line x1=\"0\" y1=\"94\" x2=\"25\" y2=\"94\" />\n",
       "  <line x1=\"0\" y1=\"101\" x2=\"25\" y2=\"101\" />\n",
       "  <line x1=\"0\" y1=\"107\" x2=\"25\" y2=\"107\" />\n",
       "  <line x1=\"0\" y1=\"114\" x2=\"25\" y2=\"114\" />\n",
       "  <line x1=\"0\" y1=\"120\" x2=\"25\" y2=\"120\" style=\"stroke-width:2\" />\n",
       "\n",
       "  <!-- Vertical lines -->\n",
       "  <line x1=\"0\" y1=\"0\" x2=\"0\" y2=\"120\" style=\"stroke-width:2\" />\n",
       "  <line x1=\"25\" y1=\"0\" x2=\"25\" y2=\"120\" style=\"stroke-width:2\" />\n",
       "\n",
       "  <!-- Colored Rectangle -->\n",
       "  <polygon points=\"0.0,0.0 25.412616514582485,0.0 25.412616514582485,120.0 0.0,120.0\" style=\"fill:#8B4903A0;stroke-width:0\"/>\n",
       "\n",
       "  <!-- Text -->\n",
       "  <text x=\"12.706308\" y=\"140.000000\" font-size=\"1.0rem\" font-weight=\"100\" text-anchor=\"middle\" >4</text>\n",
       "  <text x=\"45.412617\" y=\"60.000000\" font-size=\"1.0rem\" font-weight=\"100\" text-anchor=\"middle\" transform=\"rotate(-90,45.412617,60.000000)\">14508174</text>\n",
       "</svg>\n",
       "</td>\n",
       "</tr>\n",
       "</table>"
      ],
      "text/plain": [
       "dask.array<concatenate, shape=(14508174, 4), dtype=float64, chunksize=(90538, 4), chunktype=numpy.ndarray>"
      ]
     },
     "execution_count": 50,
     "metadata": {},
     "output_type": "execute_result"
    }
   ],
   "source": [
    "X_train"
   ]
  },
  {
   "cell_type": "code",
   "execution_count": 51,
   "metadata": {},
   "outputs": [
    {
     "data": {
      "text/html": [
       "<table>\n",
       "<tr>\n",
       "<td>\n",
       "<table>\n",
       "  <thead>\n",
       "    <tr><td> </td><th> Array </th><th> Chunk </th></tr>\n",
       "  </thead>\n",
       "  <tbody>\n",
       "    <tr><th> Bytes </th><td> 47.44 MiB </td> <td> 303.15 kiB </td></tr>\n",
       "    <tr><th> Shape </th><td> (6217985,) </td> <td> (38803,) </td></tr>\n",
       "    <tr><th> Count </th><td> 1960 Tasks </td><td> 280 Chunks </td></tr>\n",
       "    <tr><th> Type </th><td> int64 </td><td> numpy.ndarray </td></tr>\n",
       "  </tbody>\n",
       "</table>\n",
       "</td>\n",
       "<td>\n",
       "<svg width=\"170\" height=\"75\" style=\"stroke:rgb(0,0,0);stroke-width:1\" >\n",
       "\n",
       "  <!-- Horizontal lines -->\n",
       "  <line x1=\"0\" y1=\"0\" x2=\"120\" y2=\"0\" style=\"stroke-width:2\" />\n",
       "  <line x1=\"0\" y1=\"25\" x2=\"120\" y2=\"25\" style=\"stroke-width:2\" />\n",
       "\n",
       "  <!-- Vertical lines -->\n",
       "  <line x1=\"0\" y1=\"0\" x2=\"0\" y2=\"25\" style=\"stroke-width:2\" />\n",
       "  <line x1=\"6\" y1=\"0\" x2=\"6\" y2=\"25\" />\n",
       "  <line x1=\"12\" y1=\"0\" x2=\"12\" y2=\"25\" />\n",
       "  <line x1=\"19\" y1=\"0\" x2=\"19\" y2=\"25\" />\n",
       "  <line x1=\"25\" y1=\"0\" x2=\"25\" y2=\"25\" />\n",
       "  <line x1=\"31\" y1=\"0\" x2=\"31\" y2=\"25\" />\n",
       "  <line x1=\"37\" y1=\"0\" x2=\"37\" y2=\"25\" />\n",
       "  <line x1=\"44\" y1=\"0\" x2=\"44\" y2=\"25\" />\n",
       "  <line x1=\"50\" y1=\"0\" x2=\"50\" y2=\"25\" />\n",
       "  <line x1=\"56\" y1=\"0\" x2=\"56\" y2=\"25\" />\n",
       "  <line x1=\"63\" y1=\"0\" x2=\"63\" y2=\"25\" />\n",
       "  <line x1=\"69\" y1=\"0\" x2=\"69\" y2=\"25\" />\n",
       "  <line x1=\"76\" y1=\"0\" x2=\"76\" y2=\"25\" />\n",
       "  <line x1=\"81\" y1=\"0\" x2=\"81\" y2=\"25\" />\n",
       "  <line x1=\"89\" y1=\"0\" x2=\"89\" y2=\"25\" />\n",
       "  <line x1=\"94\" y1=\"0\" x2=\"94\" y2=\"25\" />\n",
       "  <line x1=\"101\" y1=\"0\" x2=\"101\" y2=\"25\" />\n",
       "  <line x1=\"107\" y1=\"0\" x2=\"107\" y2=\"25\" />\n",
       "  <line x1=\"114\" y1=\"0\" x2=\"114\" y2=\"25\" />\n",
       "  <line x1=\"120\" y1=\"0\" x2=\"120\" y2=\"25\" style=\"stroke-width:2\" />\n",
       "\n",
       "  <!-- Colored Rectangle -->\n",
       "  <polygon points=\"0.0,0.0 120.0,0.0 120.0,25.412616514582485 0.0,25.412616514582485\" style=\"fill:#8B4903A0;stroke-width:0\"/>\n",
       "\n",
       "  <!-- Text -->\n",
       "  <text x=\"60.000000\" y=\"45.412617\" font-size=\"1.0rem\" font-weight=\"100\" text-anchor=\"middle\" >6217985</text>\n",
       "  <text x=\"140.000000\" y=\"12.706308\" font-size=\"1.0rem\" font-weight=\"100\" text-anchor=\"middle\" transform=\"rotate(0,140.000000,12.706308)\">1</text>\n",
       "</svg>\n",
       "</td>\n",
       "</tr>\n",
       "</table>"
      ],
      "text/plain": [
       "dask.array<concatenate, shape=(6217985,), dtype=int64, chunksize=(38803,), chunktype=numpy.ndarray>"
      ]
     },
     "execution_count": 51,
     "metadata": {},
     "output_type": "execute_result"
    }
   ],
   "source": [
    "y_test"
   ]
  },
  {
   "cell_type": "markdown",
   "metadata": {},
   "source": [
    "And let's recompute our class counts for our labels (\"good\" and \"bad\") so that we can use this to weight our classes in our classifier and try to deal with some of the class imbalance:"
   ]
  },
  {
   "cell_type": "code",
   "execution_count": 52,
   "metadata": {},
   "outputs": [],
   "source": [
    "class_counts = (df.groupby('label')\n",
    "                  .count()\n",
    "                  .compute()['star_rating']\n",
    "               )"
   ]
  },
  {
   "cell_type": "markdown",
   "metadata": {},
   "source": [
    "Let's say that we wanted to fit a classifier to predict these labels based on our features using stochastic gradient descent (SGD). We might turn to Scikit-learn's [`SGDClassifier`](https://scikit-learn.org/stable/modules/generated/sklearn.linear_model.SGDClassifier.html#sklearn.linear_model.SGDClassifier) for this task, which fits a classifier using the stochastic gradient descent method via several different loss functions (e.g. hinge = SVM, log, = Logistic Regression, etc.), different penalties and so on.\n",
    "\n",
    "Performing a search over this hyperparameter space would normally be challenging given the size of our data, but Dask conveniently allows us to perform such searches by providing a Scikit-learn classifier object to one of its \"Search\" functions. So, that's great! all we need to do is write a Scikit-learn classifier and Dask will automatically handle the parallelization of the hyperparameter search for us. Note that Dask-ML supports a similar workflow for Deep Learning packages like [PyTorch](https://ml.dask.org/pytorch.html), [Keras, and TensorFlow](https://ml.dask.org/keras.html).\n",
    "\n",
    "To perform our hyperparameter search here, let's use an [incremental search](https://ml.dask.org/modules/generated/dask_ml.model_selection.IncrementalSearchCV.html):"
   ]
  },
  {
   "cell_type": "code",
   "execution_count": 53,
   "metadata": {},
   "outputs": [
    {
     "name": "stderr",
     "output_type": "stream",
     "text": [
      "/home/jclindaniel/.local/lib/python3.7/site-packages/dask_ml/model_selection/_incremental.py:1010: FutureWarning: decay_rate has been deprecated since Dask-ML v1.4.0.\n",
      "\n",
      "    * Use InverseDecaySearchCV to use `decay_rate`\n",
      "    * Specify decay_rate=None\n",
      "\n",
      "\n",
      "  FutureWarning,\n"
     ]
    },
    {
     "data": {
      "text/plain": [
       "IncrementalSearchCV(estimator=SGDClassifier(class_weight={0: 1,\n",
       "                                                          1: 0.20441759716883276}),\n",
       "                    parameters={'alpha': array([1.00000000e-04, 1.00926219e-04, 1.01861017e-04, 1.02804473e-04,\n",
       "       1.03756668e-04, 1.04717682e-04, 1.05687597e-04, 1.06666496e-04,\n",
       "       1.07654461e-04, 1.08651577e-04, 1.09657929e-04, 1.10673602e-04,\n",
       "       1.11698682e-04, 1.12733256e-04, 1.13777413e-04, 1.14831241e-...\n",
       "       8.39312950e-01, 8.47086827e-01, 8.54932707e-01, 8.62851257e-01,\n",
       "       8.70843150e-01, 8.78909065e-01, 8.87049689e-01, 8.95265713e-01,\n",
       "       9.03557835e-01, 9.11926760e-01, 9.20373200e-01, 9.28897872e-01,\n",
       "       9.37501502e-01, 9.46184819e-01, 9.54948564e-01, 9.63793480e-01,\n",
       "       9.72720319e-01, 9.81729841e-01, 9.90822810e-01, 1.00000000e+00]),\n",
       "                                'average': [True, False],\n",
       "                                'loss': ['hinge', 'log', 'modified_huber',\n",
       "                                         'squared_hinge']})"
      ]
     },
     "execution_count": 53,
     "metadata": {},
     "output_type": "execute_result"
    }
   ],
   "source": [
    "from dask_ml.model_selection import IncrementalSearchCV\n",
    "from sklearn.linear_model import SGDClassifier\n",
    "import numpy as np\n",
    "\n",
    "clf = SGDClassifier(class_weight={0: 1, 1: class_counts[0] / class_counts[1]})\n",
    "params = {'alpha': np.logspace(-4, 0, num=1000),\n",
    "          'loss': ['hinge', 'log', 'modified_huber', 'squared_hinge'],\n",
    "          'average': [True, False]}\n",
    "\n",
    "search = IncrementalSearchCV(clf, params)\n",
    "search.fit(X_train, y_train, classes=[0,1])"
   ]
  },
  {
   "cell_type": "code",
   "execution_count": 54,
   "metadata": {},
   "outputs": [
    {
     "data": {
      "text/plain": [
       "SGDClassifier(alpha=0.08688382635251184,\n",
       "              class_weight={0: 1, 1: 0.20441759716883276})"
      ]
     },
     "execution_count": 54,
     "metadata": {},
     "output_type": "execute_result"
    }
   ],
   "source": [
    "# check the best parameter\n",
    "search.best_estimator_"
   ]
  },
  {
   "cell_type": "code",
   "execution_count": 55,
   "metadata": {},
   "outputs": [
    {
     "data": {
      "text/plain": [
       "0.8326308293396463"
      ]
     },
     "execution_count": 55,
     "metadata": {},
     "output_type": "execute_result"
    }
   ],
   "source": [
    "# check the train accuracy\n",
    "search.best_score_"
   ]
  },
  {
   "cell_type": "code",
   "execution_count": 56,
   "metadata": {
    "scrolled": true
   },
   "outputs": [
    {
     "data": {
      "text/plain": [
       "0.8302773326085541"
      ]
     },
     "execution_count": 56,
     "metadata": {},
     "output_type": "execute_result"
    }
   ],
   "source": [
    "# check the test accuracy\n",
    "search.best_estimator_.score(X_test,y_test)"
   ]
  },
  {
   "cell_type": "code",
   "execution_count": 57,
   "metadata": {},
   "outputs": [
    {
     "data": {
      "image/png": "[encoded data removed]",
      "text/plain": [
       "<Figure size 432x288 with 2 Axes>"
      ]
     },
     "metadata": {
      "needs_background": "light"
     },
     "output_type": "display_data"
    }
   ],
   "source": [
    "%matplotlib inline\n",
    "# plot the confusion matrix\n",
    "from sklearn.metrics import plot_confusion_matrix\n",
    "import matplotlib.pyplot as plt\n",
    "\n",
    "plot_confusion_matrix(search.best_estimator_, X_test, y_test)\n",
    "plt.show()"
   ]
  },
  {
   "cell_type": "markdown",
   "metadata": {},
   "source": [
    "This model suffers a lot from data imbalance even after we specified weights (just as in the model we trained in PySpark, we're just predicting \"Good\" reviews regardless of what the true label is). Remember, though, we performed relatively naive feature selection here and you should be able to engineer better features in your assignments!\n",
    "\n",
    "Regardless, from this short demo, you can see how seamless it is to perform Pandas DataFrame-like operations as well as Scikit-Learn machine learning tasks in Dask. If you're already working with these libraries in other capacities, this can be a great way to scale out your code, with very little additional effort on your part (e.g. writing new code in PySpark)!"
   ]
  }
 ],
 "metadata": {
  "kernelspec": {
   "display_name": "Python 3",
   "language": "python",
   "name": "python3"
  },
  "language_info": {
   "codemirror_mode": {
    "name": "ipython",
    "version": 3
   },
   "file_extension": ".py",
   "mimetype": "text/x-python",
   "name": "python",
   "nbconvert_exporter": "python",
   "pygments_lexer": "ipython3",
   "version": "3.7.3"
  }
 },
 "nbformat": 4,
 "nbformat_minor": 4
}

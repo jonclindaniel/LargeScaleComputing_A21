{
 "cells": [
  {
   "cell_type": "markdown",
   "metadata": {
    "id": "UhCHb7X_nOyq"
   },
   "source": [
    "# Accelerating Dask with GPUs (via RAPIDS)\n",
    "\n",
    "We've seen in lecture how the [RAPIDS libraries](https://rapids.ai/) make it possible to accelerate common analytical workflows on GPUs using libraries like `cudf` (for GPU DataFrames) and `cuml` (for basic GPU machine learning operations on DataFrames). When your data gets especially large (e.g. exceeding the memory capacity of a single GPU) or your computations get especially cumbersome, Dask makes it possible to scale these workflows out even further -- distributing work out across a cluster of GPUs.\n",
    "\n",
    "This notebook is intended to be run in a Google Cloud Vertex AI User-Managed Notebook server with the environment set to \"RAPIDS 0.18\" and 2 T4 GPUs requested. To do so, be sure to redeem your student code for Google Cloud credits (posted on the Ed Discussion Forum) and follow [these steps](https://cloud.google.com/vertex-ai/docs/workbench/user-managed/create-new) to set up your Google Cloud account + create a User-Managed Notebook environment. Note that you [will need to request an increase in your GPU quota](https://cloud.google.com/compute/quotas#requesting_additional_quota) in order to request more than one GPU. For instance, here, we are requesting the ability to launch 2 T4 GPUs in the us-central1 region:\n",
    "\n",
    "![](screenshot.png)\n",
    "\n",
    "In AWS Educate, recall that we cannot create GPU clusters. However, this notebook should also be runnable on multi-GPU EC2 instances and clusters (on AWS) if you use a personal account to request these resources.\n",
    "\n",
    "If we run the command below, you'll see the type of GPUs being used (2 NVIDIA T4s):"
   ]
  },
  {
   "cell_type": "code",
   "execution_count": 1,
   "metadata": {
    "colab": {
     "base_uri": "https://localhost:8080/"
    },
    "id": "8zKj9laOmtoq",
    "outputId": "f0a9a260-3cfa-447a-b1e2-0a4abd5515e2"
   },
   "outputs": [
    {
     "name": "stdout",
     "output_type": "stream",
     "text": [
      "Sun Nov 14 00:16:22 2021       \n",
      "+-----------------------------------------------------------------------------+\n",
      "| NVIDIA-SMI 450.80.02    Driver Version: 450.80.02    CUDA Version: 11.0     |\n",
      "|-------------------------------+----------------------+----------------------+\n",
      "| GPU  Name        Persistence-M| Bus-Id        Disp.A | Volatile Uncorr. ECC |\n",
      "| Fan  Temp  Perf  Pwr:Usage/Cap|         Memory-Usage | GPU-Util  Compute M. |\n",
      "|                               |                      |               MIG M. |\n",
      "|===============================+======================+======================|\n",
      "|   0  Tesla T4            Off  | 00000000:00:04.0 Off |                    0 |\n",
      "| N/A   67C    P0    30W /  70W |      0MiB / 15109MiB |      0%      Default |\n",
      "|                               |                      |                  N/A |\n",
      "+-------------------------------+----------------------+----------------------+\n",
      "|   1  Tesla T4            Off  | 00000000:00:05.0 Off |                    0 |\n",
      "| N/A   71C    P0    22W /  70W |      0MiB / 15109MiB |      0%      Default |\n",
      "|                               |                      |                  N/A |\n",
      "+-------------------------------+----------------------+----------------------+\n",
      "                                                                               \n",
      "+-----------------------------------------------------------------------------+\n",
      "| Processes:                                                                  |\n",
      "|  GPU   GI   CI        PID   Type   Process name                  GPU Memory |\n",
      "|        ID   ID                                                   Usage      |\n",
      "|=============================================================================|\n",
      "|  No running processes found                                                 |\n",
      "+-----------------------------------------------------------------------------+\n"
     ]
    }
   ],
   "source": [
    "!nvidia-smi"
   ]
  },
  {
   "cell_type": "markdown",
   "metadata": {
    "id": "ws9pAFs2ER4o"
   },
   "source": [
    "Let's use `dask_cuda`'s API to launch a Dask GPU cluster and pass this cluster object to our `dask.distributed` client. `LocalCUDACluster()` will count each available GPU in our cluster (in this case, 1 GPU) as a Dask worker and assign it work."
   ]
  },
  {
   "cell_type": "code",
   "execution_count": 2,
   "metadata": {
    "id": "L2BX7q1CnDgG"
   },
   "outputs": [],
   "source": [
    "from dask_cuda import LocalCUDACluster\n",
    "from dask.distributed import Client\n",
    "\n",
    "cluster = LocalCUDACluster() # Identify all available GPUs\n",
    "client = Client(cluster)"
   ]
  },
  {
   "cell_type": "markdown",
   "metadata": {
    "id": "0GkgjBR7FPsG"
   },
   "source": [
    "From here, we can use `dask_cudf` to automate the process of partitioning our data across our GPU workers and instantiating a GPU-based DataFrame on our GPU that we can work with. Let's load in the same AirBnB data that we were working with in the `numba` + `dask` CPU demonstration:"
   ]
  },
  {
   "cell_type": "code",
   "execution_count": 3,
   "metadata": {
    "colab": {
     "base_uri": "https://localhost:8080/",
     "height": 450
    },
    "id": "BND3eVWathF_",
    "outputId": "8046f29a-76a8-4a0a-af88-104fae24248b"
   },
   "outputs": [
    {
     "data": {
      "text/html": [
       "<div>\n",
       "<style scoped>\n",
       "    .dataframe tbody tr th:only-of-type {\n",
       "        vertical-align: middle;\n",
       "    }\n",
       "\n",
       "    .dataframe tbody tr th {\n",
       "        vertical-align: top;\n",
       "    }\n",
       "\n",
       "    .dataframe thead th {\n",
       "        text-align: right;\n",
       "    }\n",
       "</style>\n",
       "<table border=\"1\" class=\"dataframe\">\n",
       "  <thead>\n",
       "    <tr style=\"text-align: right;\">\n",
       "      <th></th>\n",
       "      <th>id</th>\n",
       "      <th>name</th>\n",
       "      <th>host_id</th>\n",
       "      <th>host_name</th>\n",
       "      <th>neighbourhood_group</th>\n",
       "      <th>neighbourhood</th>\n",
       "      <th>latitude</th>\n",
       "      <th>longitude</th>\n",
       "      <th>room_type</th>\n",
       "      <th>price</th>\n",
       "      <th>minimum_nights</th>\n",
       "      <th>number_of_reviews</th>\n",
       "      <th>last_review</th>\n",
       "      <th>reviews_per_month</th>\n",
       "      <th>calculated_host_listings_count</th>\n",
       "      <th>availability_365</th>\n",
       "    </tr>\n",
       "  </thead>\n",
       "  <tbody>\n",
       "    <tr>\n",
       "      <th>0</th>\n",
       "      <td>3781</td>\n",
       "      <td>HARBORSIDE-Walk to subway</td>\n",
       "      <td>4804</td>\n",
       "      <td>Frank</td>\n",
       "      <td>&lt;NA&gt;</td>\n",
       "      <td>East Boston</td>\n",
       "      <td>42.36413</td>\n",
       "      <td>-71.02991</td>\n",
       "      <td>Entire home/apt</td>\n",
       "      <td>125</td>\n",
       "      <td>32</td>\n",
       "      <td>19</td>\n",
       "      <td>2021-02-26</td>\n",
       "      <td>0.27</td>\n",
       "      <td>1</td>\n",
       "      <td>106</td>\n",
       "    </tr>\n",
       "    <tr>\n",
       "      <th>1</th>\n",
       "      <td>6695</td>\n",
       "      <td>$99 Special!! Home Away! Condo</td>\n",
       "      <td>8229</td>\n",
       "      <td>Terry</td>\n",
       "      <td>&lt;NA&gt;</td>\n",
       "      <td>Roxbury</td>\n",
       "      <td>42.32802</td>\n",
       "      <td>-71.09387</td>\n",
       "      <td>Entire home/apt</td>\n",
       "      <td>169</td>\n",
       "      <td>29</td>\n",
       "      <td>115</td>\n",
       "      <td>2019-11-02</td>\n",
       "      <td>0.81</td>\n",
       "      <td>4</td>\n",
       "      <td>40</td>\n",
       "    </tr>\n",
       "    <tr>\n",
       "      <th>2</th>\n",
       "      <td>10813</td>\n",
       "      <td>Back Bay Apt-blocks to subway, Newbury St, The...</td>\n",
       "      <td>38997</td>\n",
       "      <td>Michelle</td>\n",
       "      <td>&lt;NA&gt;</td>\n",
       "      <td>Back Bay</td>\n",
       "      <td>42.35061</td>\n",
       "      <td>-71.08787</td>\n",
       "      <td>Entire home/apt</td>\n",
       "      <td>96</td>\n",
       "      <td>29</td>\n",
       "      <td>5</td>\n",
       "      <td>2020-12-02</td>\n",
       "      <td>0.08</td>\n",
       "      <td>11</td>\n",
       "      <td>307</td>\n",
       "    </tr>\n",
       "    <tr>\n",
       "      <th>3</th>\n",
       "      <td>10986</td>\n",
       "      <td>North End (Waterfront area)  CLOSE TO MGH &amp; SU...</td>\n",
       "      <td>38997</td>\n",
       "      <td>Michelle</td>\n",
       "      <td>&lt;NA&gt;</td>\n",
       "      <td>North End</td>\n",
       "      <td>42.36377</td>\n",
       "      <td>-71.05206</td>\n",
       "      <td>Entire home/apt</td>\n",
       "      <td>96</td>\n",
       "      <td>29</td>\n",
       "      <td>2</td>\n",
       "      <td>2016-05-23</td>\n",
       "      <td>0.03</td>\n",
       "      <td>11</td>\n",
       "      <td>293</td>\n",
       "    </tr>\n",
       "    <tr>\n",
       "      <th>4</th>\n",
       "      <td>13247</td>\n",
       "      <td>Back Bay studio apartment</td>\n",
       "      <td>51637</td>\n",
       "      <td>Susan</td>\n",
       "      <td>&lt;NA&gt;</td>\n",
       "      <td>Back Bay</td>\n",
       "      <td>42.35164</td>\n",
       "      <td>-71.08752</td>\n",
       "      <td>Entire home/apt</td>\n",
       "      <td>75</td>\n",
       "      <td>91</td>\n",
       "      <td>0</td>\n",
       "      <td>&lt;NA&gt;</td>\n",
       "      <td>&lt;NA&gt;</td>\n",
       "      <td>2</td>\n",
       "      <td>0</td>\n",
       "    </tr>\n",
       "  </tbody>\n",
       "</table>\n",
       "</div>"
      ],
      "text/plain": [
       "      id                                               name  host_id  \\\n",
       "0   3781                          HARBORSIDE-Walk to subway     4804   \n",
       "1   6695                     $99 Special!! Home Away! Condo     8229   \n",
       "2  10813  Back Bay Apt-blocks to subway, Newbury St, The...    38997   \n",
       "3  10986  North End (Waterfront area)  CLOSE TO MGH & SU...    38997   \n",
       "4  13247                          Back Bay studio apartment    51637   \n",
       "\n",
       "  host_name neighbourhood_group neighbourhood  latitude  longitude  \\\n",
       "0     Frank                <NA>   East Boston  42.36413  -71.02991   \n",
       "1     Terry                <NA>       Roxbury  42.32802  -71.09387   \n",
       "2  Michelle                <NA>      Back Bay  42.35061  -71.08787   \n",
       "3  Michelle                <NA>     North End  42.36377  -71.05206   \n",
       "4     Susan                <NA>      Back Bay  42.35164  -71.08752   \n",
       "\n",
       "         room_type  price  minimum_nights  number_of_reviews last_review  \\\n",
       "0  Entire home/apt    125              32                 19  2021-02-26   \n",
       "1  Entire home/apt    169              29                115  2019-11-02   \n",
       "2  Entire home/apt     96              29                  5  2020-12-02   \n",
       "3  Entire home/apt     96              29                  2  2016-05-23   \n",
       "4  Entire home/apt     75              91                  0        <NA>   \n",
       "\n",
       "  reviews_per_month  calculated_host_listings_count  availability_365  \n",
       "0              0.27                               1               106  \n",
       "1              0.81                               4                40  \n",
       "2              0.08                              11               307  \n",
       "3              0.03                              11               293  \n",
       "4              <NA>                               2                 0  "
      ]
     },
     "execution_count": 3,
     "metadata": {},
     "output_type": "execute_result"
    }
   ],
   "source": [
    "import dask_cudf\n",
    "\n",
    "df = dask_cudf.read_csv('listings*.csv')\n",
    "df.head()"
   ]
  },
  {
   "cell_type": "markdown",
   "metadata": {
    "id": "y4ikXLjh4RRW"
   },
   "source": [
    "Once we have that data, we can perform many of the standard DataFrame operations we perform on CPUs -- just accelerated by our GPU cluster!"
   ]
  },
  {
   "cell_type": "code",
   "execution_count": 4,
   "metadata": {
    "colab": {
     "base_uri": "https://localhost:8080/"
    },
    "id": "GdtSdyF0u8xs",
    "outputId": "cd6b5fde-cf8f-483b-ddce-13b4a33066df"
   },
   "outputs": [
    {
     "data": {
      "text/plain": [
       "neighbourhood   room_type      \n",
       "North Center    Private room        75.818182\n",
       "Ashburn         Entire home/apt    100.857143\n",
       "Edgewater       Entire home/apt    140.142857\n",
       "South Lawndale  Entire home/apt     79.826087\n",
       "Auburn Gresham  Entire home/apt    135.000000\n",
       "                                      ...    \n",
       "Lakeshore       Entire home/apt    205.500000\n",
       "Brighton Park   Shared room         39.000000\n",
       "Lake View       Hotel room         656.400000\n",
       "North Beach     Shared room         31.900000\n",
       "Clearing        Entire home/apt     90.000000\n",
       "Name: price, Length: 341, dtype: float64"
      ]
     },
     "execution_count": 4,
     "metadata": {},
     "output_type": "execute_result"
    }
   ],
   "source": [
    "df.groupby(['neighbourhood', 'room_type']) \\\n",
    "  .price \\\n",
    "  .mean() \\\n",
    "  .compute()"
   ]
  },
  {
   "cell_type": "markdown",
   "metadata": {
    "id": "mXoQOrdD-vz9"
   },
   "source": [
    "One thing to note, though, is that not all of the functionality we might expect out of CPU clusters is available yet in the `cudf`/`dask_cudf` DataFrame implementation.\n",
    "\n",
    "For instance (and of particular note!), our ability to apply custom functions is still pretty limited. `cudf` uses Numba's CUDA compiler to translate this code for the GPU and [many standard `numpy` operations are not supported](https://numba.pydata.org/numba-doc/dev/cuda/cudapysupported.html#numpy-support) (for instance, if you try to apply the distance calculation with performed in the Numba+Dask CPU demonstration notebook for today, this will fail to compile correctly for the GPU).\n",
    "\n",
    "That being said, we can perform many base-Python operations inside of custom functions, so if you can express your custom functions in this way, it might be worth your while to do this work on a GPU. For example, let's create a custom price index that indicates whether an AirBnB is \"Cheap\" (0), \"Moderately Expensive\" (1), or \"Very Expensive\" (2) using `cudf`'s [`apply_rows` method](https://docs.rapids.ai/api/cudf/stable/guide-to-udfs.html#DataFrame-UDFs):\n"
   ]
  },
  {
   "cell_type": "code",
   "execution_count": 5,
   "metadata": {
    "colab": {
     "base_uri": "https://localhost:8080/",
     "height": 195
    },
    "id": "DOo_LkCI0fhl",
    "outputId": "8c3f2db9-d4de-4d5a-e1f8-a9fc144ac6b6"
   },
   "outputs": [
    {
     "data": {
      "text/html": [
       "<div>\n",
       "<style scoped>\n",
       "    .dataframe tbody tr th:only-of-type {\n",
       "        vertical-align: middle;\n",
       "    }\n",
       "\n",
       "    .dataframe tbody tr th {\n",
       "        vertical-align: top;\n",
       "    }\n",
       "\n",
       "    .dataframe thead th {\n",
       "        text-align: right;\n",
       "    }\n",
       "</style>\n",
       "<table border=\"1\" class=\"dataframe\">\n",
       "  <thead>\n",
       "    <tr style=\"text-align: right;\">\n",
       "      <th></th>\n",
       "      <th>price</th>\n",
       "      <th>price_index</th>\n",
       "    </tr>\n",
       "  </thead>\n",
       "  <tbody>\n",
       "    <tr>\n",
       "      <th>0</th>\n",
       "      <td>125</td>\n",
       "      <td>2</td>\n",
       "    </tr>\n",
       "    <tr>\n",
       "      <th>1</th>\n",
       "      <td>169</td>\n",
       "      <td>2</td>\n",
       "    </tr>\n",
       "    <tr>\n",
       "      <th>2</th>\n",
       "      <td>96</td>\n",
       "      <td>1</td>\n",
       "    </tr>\n",
       "    <tr>\n",
       "      <th>3</th>\n",
       "      <td>96</td>\n",
       "      <td>1</td>\n",
       "    </tr>\n",
       "    <tr>\n",
       "      <th>4</th>\n",
       "      <td>75</td>\n",
       "      <td>1</td>\n",
       "    </tr>\n",
       "  </tbody>\n",
       "</table>\n",
       "</div>"
      ],
      "text/plain": [
       "   price  price_index\n",
       "0    125            2\n",
       "1    169            2\n",
       "2     96            1\n",
       "3     96            1\n",
       "4     75            1"
      ]
     },
     "execution_count": 5,
     "metadata": {},
     "output_type": "execute_result"
    }
   ],
   "source": [
    "def expensive(x, price_index):\n",
    "    # passed through Numba's CUDA compiler and auto-parallelized for GPU\n",
    "    # for loop is automatically parallelized\n",
    "    for i, price in enumerate(x):\n",
    "        if price < 50:\n",
    "            price_index[i] = 0\n",
    "        elif price < 100:\n",
    "            price_index[i] = 1\n",
    "        else:\n",
    "            price_index[i] = 2\n",
    "\n",
    "# Use cudf's `apply_rows` API for applying function to every row in DataFrame\n",
    "df = df.apply_rows(expensive,\n",
    "                   incols={'price':'x'},\n",
    "                   outcols={'price_index': int})\n",
    "\n",
    "# Confirm that price index created correctly\n",
    "df[['price', 'price_index']].head()"
   ]
  },
  {
   "cell_type": "markdown",
   "metadata": {
    "id": "IB5kFM5C3TTC"
   },
   "source": [
    "In addition to preprocessing and analyzing data on GPUs, we can also train (a limited set of) Machine Learning models directly on our GPU cluster using the `cuml` library in the RAPIDS ecoystem as well. \n",
    "\n",
    "For instance, let's train a linear regression model based on our data from San Francisco, Chicago, and Boston to predict the price of an AirBnB based on other values in its listing information (e.g. \"reviews per month\" and \"minimum nights\"). We'll then use this model to make predictions about the price of AirBnBs in another city (NYC):"
   ]
  },
  {
   "cell_type": "code",
   "execution_count": 6,
   "metadata": {
    "id": "3frzCDx-Pkzb"
   },
   "outputs": [],
   "source": [
    "from cuml.dask.linear_model import LinearRegression\n",
    "import numpy as np\n",
    "\n",
    "X = df[['reviews_per_month', 'minimum_nights']].astype(np.float32).dropna()\n",
    "y = df[['price']].astype(np.float32).dropna()\n",
    "fit = LinearRegression().fit(X, y)"
   ]
  },
  {
   "cell_type": "markdown",
   "metadata": {
    "id": "fJR31Zss2VgY"
   },
   "source": [
    "Then, we can read in the NYC dataset and make predictions about what prices will be in NYC on the basis of the model we trained on data from our three original cities:"
   ]
  },
  {
   "cell_type": "code",
   "execution_count": 7,
   "metadata": {
    "colab": {
     "base_uri": "https://localhost:8080/"
    },
    "id": "7C18rvfJDjM_",
    "outputId": "f8483688-d395-40ce-959a-c23858a4d1e4"
   },
   "outputs": [
    {
     "data": {
      "text/plain": [
       "0    184.802887\n",
       "1    188.286636\n",
       "2    184.802887\n",
       "3    183.658218\n",
       "4    186.646774\n",
       "dtype: float32"
      ]
     },
     "execution_count": 7,
     "metadata": {},
     "output_type": "execute_result"
    }
   ],
   "source": [
    "df_nyc = dask_cudf.read_csv('test*.csv')\n",
    "X_test = df_nyc[['reviews_per_month', 'minimum_nights']].astype(np.float32) \\\n",
    "                                                        .dropna()\n",
    "fit.predict(X_test) \\\n",
    "   .compute() \\\n",
    "   .head()"
   ]
  }
 ],
 "metadata": {
  "accelerator": "GPU",
  "colab": {
   "collapsed_sections": [],
   "name": "8W_dask_rapids.ipynb",
   "provenance": [],
   "toc_visible": true
  },
  "environment": {
   "name": "rapids-gpu.0-18.m65",
   "type": "gcloud",
   "uri": "gcr.io/deeplearning-platform-release/rapids-gpu.0-18:m65"
  },
  "kernelspec": {
   "display_name": "Python 3",
   "language": "python",
   "name": "python3"
  },
  "language_info": {
   "codemirror_mode": {
    "name": "ipython",
    "version": 3
   },
   "file_extension": ".py",
   "mimetype": "text/x-python",
   "name": "python",
   "nbconvert_exporter": "python",
   "pygments_lexer": "ipython3",
   "version": "3.7.6"
  }
 },
 "nbformat": 4,
 "nbformat_minor": 4
}
